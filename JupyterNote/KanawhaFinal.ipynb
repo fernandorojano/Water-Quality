{
 "cells": [
  {
   "cell_type": "markdown",
   "metadata": {
    "extensions": {
     "jupyter_dashboards": {
      "version": 1,
      "views": {
       "grid_default": {
        "col": 0,
        "height": 4,
        "hidden": false,
        "row": 0,
        "width": 4
       },
       "report_default": {
        "hidden": false
       }
      }
     }
    }
   },
   "source": [
    "#  Original Script in: https://github.com/JackS9/jupyter-scipy-geo-notebook\n",
    "# Analysis and display of water quality indicators along Kanawha River, West Virginia\n",
    "# == Water Quality Data source available in: https://doi.org/10.6084/m9.figshare.9786212\n",
    "# == Full credits to cite:== Huber, David H; Ugwuanyi, Ifeoma R.; Lhilhi Noundou, Vadesse; Kemajou Tchamba, Andrielle L.;  Chavarria-Palma, Jesus Emmanuel (2019): Water Quality for Kanawha River WV. figshare. Dataset."
   ]
  },
  {
   "cell_type": "markdown",
   "metadata": {},
   "source": [
    "<h3>Quick index:</h3>\n",
    "<ul>\n",
    "    <li><a href=#map>Map</a></li>\n",
    "    <li><a href=#transect_plots>Transect Plots</a></li>\n",
    "    <li><a href=#transect_3d_profiles>Transect 3D Profiles</a></li>\n",
    "    <li><a href=#ironton_usgs_plots>USGS Gage at Ironton</a></li>\n",
    "    <li><a href=#locks_plots>Sonde data at RCBI and Greenup Locks</a></li>    </ul>"
   ]
  },
  {
   "cell_type": "markdown",
   "metadata": {
    "extensions": {
     "jupyter_dashboards": {
      "version": 1,
      "views": {
       "grid_default": {
        "col": 0,
        "height": 13,
        "hidden": false,
        "row": 4,
        "width": 12
       },
       "report_default": {
        "hidden": false
       }
      }
     }
    }
   },
   "source": [
    "#### TODO:\n",
    "* Do timeseries data first, then transects using dynamically generated 2D (RMI x 6H-means) baseline data from Locks\n",
    "* **NWS** (weather) data\n",
    "* **WQP** data\n",
    "* WV DEP data (**TAGIS**)\n",
    "* Other SENSE/AFI data \n",
    "* Plots in **marker popups**\n",
    "* More **consistent naming** of input/output files, functions, plot labels,...\n",
    "* Put all local data in a **database** and access from there"
   ]
  },
  {
   "cell_type": "markdown",
   "metadata": {},
   "source": [
    "## == Get things set up =="
   ]
  },
  {
   "cell_type": "markdown",
   "metadata": {
    "extensions": {
     "jupyter_dashboards": {
      "version": 1,
      "views": {
       "grid_default": {
        "col": 0,
        "height": 5,
        "hidden": false,
        "row": 17,
        "width": 12
       },
       "report_default": {
        "hidden": false
       }
      }
     }
    }
   },
   "source": [
    "### To install packages locally (e.g., folium, geopandas, fiona, shapely):\n",
    "```\n",
    "%%bash -l\n",
    "use -e -r anaconda3-5.1\n",
    "pip install folium --prefix=. --upgrade-strategy only-if-needed\n",
    "```"
   ]
  },
  {
   "cell_type": "markdown",
   "metadata": {
    "extensions": {
     "jupyter_dashboards": {
      "version": 1,
      "views": {
       "grid_default": {
        "hidden": true
       },
       "report_default": {
        "hidden": true
       }
      }
     }
    }
   },
   "source": [
    "#### To access them:\n",
    "```\n",
    "import os, sys\n",
    "sys.path.insert(0,'lib/python3.7/site-packages') # Add locally installed packages to path\n",
    "```"
   ]
  },
  {
   "cell_type": "markdown",
   "metadata": {},
   "source": [
    "### Use full width of browser window"
   ]
  },
  {
   "cell_type": "code",
   "execution_count": 1,
   "metadata": {},
   "outputs": [
    {
     "data": {
      "text/html": [
       "<style>.container { width:100% !important; }</style>"
      ],
      "text/plain": [
       "<IPython.core.display.HTML object>"
      ]
     },
     "metadata": {},
     "output_type": "display_data"
    }
   ],
   "source": [
    "from IPython.core.display import display, HTML\n",
    "display(HTML(\"<style>.container { width:100% !important; }</style>\"))\n",
    "#IFrame(HTML(\"<style>.container { width:100% !important; height:100% !important}</style>\"))"
   ]
  },
  {
   "cell_type": "markdown",
   "metadata": {
    "extensions": {
     "jupyter_dashboards": {
      "version": 1,
      "views": {
       "grid_default": {
        "col": 4,
        "height": 4,
        "hidden": false,
        "row": 0,
        "width": 4
       },
       "report_default": {
        "hidden": false
       }
      }
     }
    }
   },
   "source": [
    "### Enable R-style DataFrames with Pandas, numerical arrays and matrices with NumPy"
   ]
  },
  {
   "cell_type": "code",
   "execution_count": 2,
   "metadata": {
    "extensions": {
     "jupyter_dashboards": {
      "version": 1,
      "views": {
       "grid_default": {
        "hidden": true
       },
       "report_default": {
        "hidden": true
       }
      }
     }
    }
   },
   "outputs": [],
   "source": [
    "import pandas as pd\n",
    "import numpy as np"
   ]
  },
  {
   "cell_type": "markdown",
   "metadata": {
    "extensions": {
     "jupyter_dashboards": {
      "version": 1,
      "views": {
       "grid_default": {
        "col": 4,
        "height": 4,
        "hidden": false,
        "row": 0,
        "width": 4
       },
       "report_default": {
        "hidden": false
       }
      }
     }
    }
   },
   "source": [
    "### Enable Math functions"
   ]
  },
  {
   "cell_type": "code",
   "execution_count": 3,
   "metadata": {
    "extensions": {
     "jupyter_dashboards": {
      "version": 1,
      "views": {
       "grid_default": {
        "hidden": true
       },
       "report_default": {
        "hidden": true
       }
      }
     }
    }
   },
   "outputs": [],
   "source": [
    "import math"
   ]
  },
  {
   "cell_type": "markdown",
   "metadata": {
    "extensions": {
     "jupyter_dashboards": {
      "version": 1,
      "views": {
       "grid_default": {
        "col": 4,
        "height": 4,
        "hidden": false,
        "row": 0,
        "width": 4
       },
       "report_default": {
        "hidden": false
       }
      }
     }
    }
   },
   "source": [
    "### Enable working with Dates and Times"
   ]
  },
  {
   "cell_type": "code",
   "execution_count": 4,
   "metadata": {
    "extensions": {
     "jupyter_dashboards": {
      "version": 1,
      "views": {
       "grid_default": {
        "hidden": true
       },
       "report_default": {
        "hidden": true
       }
      }
     }
    }
   },
   "outputs": [],
   "source": [
    "import time"
   ]
  },
  {
   "cell_type": "markdown",
   "metadata": {
    "extensions": {
     "jupyter_dashboards": {
      "version": 1,
      "views": {
       "grid_default": {
        "col": 4,
        "height": 4,
        "hidden": false,
        "row": 0,
        "width": 4
       },
       "report_default": {
        "hidden": false
       }
      }
     }
    }
   },
   "source": [
    "### Enable Pandas scatter plot matrices"
   ]
  },
  {
   "cell_type": "code",
   "execution_count": 5,
   "metadata": {
    "extensions": {
     "jupyter_dashboards": {
      "version": 1,
      "views": {
       "grid_default": {
        "hidden": true
       },
       "report_default": {
        "hidden": true
       }
      }
     }
    }
   },
   "outputs": [],
   "source": [
    "from pandas.plotting import scatter_matrix"
   ]
  },
  {
   "cell_type": "markdown",
   "metadata": {
    "extensions": {
     "jupyter_dashboards": {
      "version": 1,
      "views": {
       "grid_default": {
        "col": 4,
        "height": 4,
        "hidden": false,
        "row": 0,
        "width": 4
       },
       "report_default": {
        "hidden": false
       }
      }
     }
    }
   },
   "source": [
    "### Enable inline MATLAB-style plotting with MatPlotLib"
   ]
  },
  {
   "cell_type": "code",
   "execution_count": 6,
   "metadata": {
    "extensions": {
     "jupyter_dashboards": {
      "version": 1,
      "views": {
       "grid_default": {
        "hidden": true
       },
       "report_default": {
        "hidden": true
       }
      }
     }
    }
   },
   "outputs": [],
   "source": [
    "import matplotlib.pyplot as plt\n",
    "%matplotlib inline"
   ]
  },
  {
   "cell_type": "markdown",
   "metadata": {
    "extensions": {
     "jupyter_dashboards": {
      "version": 1,
      "views": {
       "grid_default": {},
       "report_default": {
        "hidden": false
       }
      }
     }
    }
   },
   "source": [
    "### Enable 3D plotting in MatPlotLib using MPlot3D toolkit"
   ]
  },
  {
   "cell_type": "code",
   "execution_count": 7,
   "metadata": {
    "extensions": {
     "jupyter_dashboards": {
      "version": 1,
      "views": {
       "grid_default": {
        "hidden": true
       },
       "report_default": {
        "hidden": true
       }
      }
     }
    }
   },
   "outputs": [],
   "source": [
    "from mpl_toolkits.mplot3d import Axes3D"
   ]
  },
  {
   "cell_type": "markdown",
   "metadata": {
    "extensions": {
     "jupyter_dashboards": {
      "version": 1,
      "views": {
       "grid_default": {},
       "report_default": {
        "hidden": false
       }
      }
     }
    }
   },
   "source": [
    "### Enable interactive plots using iPyWidgets"
   ]
  },
  {
   "cell_type": "code",
   "execution_count": 8,
   "metadata": {
    "extensions": {
     "jupyter_dashboards": {
      "version": 1,
      "views": {
       "grid_default": {
        "hidden": true
       },
       "report_default": {
        "hidden": true
       }
      }
     }
    }
   },
   "outputs": [],
   "source": [
    "import ipywidgets as widgets\n",
    "from ipywidgets import interact, interactive, fixed, interact_manual"
   ]
  },
  {
   "cell_type": "markdown",
   "metadata": {
    "extensions": {
     "jupyter_dashboards": {
      "version": 1,
      "views": {
       "grid_default": {},
       "report_default": {
        "hidden": false
       }
      }
     }
    }
   },
   "source": [
    "### Enable geospatial DataFrames with GeoPandas (built on Fiona, which is built on GDAL/OGR)"
   ]
  },
  {
   "cell_type": "code",
   "execution_count": 9,
   "metadata": {
    "extensions": {
     "jupyter_dashboards": {
      "version": 1,
      "views": {
       "grid_default": {
        "hidden": true
       },
       "report_default": {
        "hidden": true
       }
      }
     }
    }
   },
   "outputs": [],
   "source": [
    "import os\n",
    "import geopandas as gpd"
   ]
  },
  {
   "cell_type": "markdown",
   "metadata": {
    "extensions": {
     "jupyter_dashboards": {
      "version": 1,
      "views": {
       "grid_default": {},
       "report_default": {
        "hidden": false
       }
      }
     }
    }
   },
   "source": [
    "### Enable Leatlet.JS-based mapping with Folium "
   ]
  },
  {
   "cell_type": "code",
   "execution_count": 10,
   "metadata": {
    "extensions": {
     "jupyter_dashboards": {
      "version": 1,
      "views": {
       "grid_default": {
        "hidden": true
       },
       "report_default": {
        "hidden": true
       }
      }
     }
    }
   },
   "outputs": [],
   "source": [
    "import folium\n",
    "from folium import IFrame\n",
    "import folium.plugins as plugins"
   ]
  },
  {
   "cell_type": "markdown",
   "metadata": {
    "extensions": {
     "jupyter_dashboards": {
      "version": 1,
      "views": {
       "grid_default": {},
       "report_default": {
        "hidden": false
       }
      }
     }
    }
   },
   "source": [
    "### Enable additional HTML features with Branca"
   ]
  },
  {
   "cell_type": "code",
   "execution_count": 11,
   "metadata": {
    "extensions": {
     "jupyter_dashboards": {
      "version": 1,
      "views": {
       "grid_default": {
        "hidden": true
       },
       "report_default": {
        "hidden": true
       }
      }
     }
    }
   },
   "outputs": [],
   "source": [
    "import branca"
   ]
  },
  {
   "cell_type": "markdown",
   "metadata": {
    "extensions": {
     "jupyter_dashboards": {
      "version": 1,
      "views": {
       "grid_default": {},
       "report_default": {
        "hidden": false
       }
      }
     }
    }
   },
   "source": [
    "### Enable other geospatial utilities with Shapely"
   ]
  },
  {
   "cell_type": "code",
   "execution_count": 12,
   "metadata": {
    "extensions": {
     "jupyter_dashboards": {
      "version": 1,
      "views": {
       "grid_default": {
        "hidden": true
       },
       "report_default": {
        "hidden": true
       }
      }
     }
    }
   },
   "outputs": [],
   "source": [
    "import shapely\n",
    "from shapely.geometry import Point\n",
    "import webbrowser\n",
    "import pingouin as pg\n",
    "import seaborn as sns"
   ]
  },
  {
   "cell_type": "markdown",
   "metadata": {
    "extensions": {
     "jupyter_dashboards": {
      "version": 1,
      "views": {
       "grid_default": {},
       "report_default": {
        "hidden": false
       }
      }
     }
    }
   },
   "source": [
    "# == Sampling Sites =="
   ]
  },
  {
   "cell_type": "markdown",
   "metadata": {
    "extensions": {
     "jupyter_dashboards": {
      "version": 1,
      "views": {
       "grid_default": {},
       "report_default": {
        "hidden": false
       }
      }
     }
    }
   },
   "source": [
    "### Get all sampling sites along Kanawha River\n",
    "#### TO DO:\n",
    " * Add CSO positions"
   ]
  },
  {
   "cell_type": "code",
   "execution_count": 13,
   "metadata": {
    "extensions": {
     "jupyter_dashboards": {
      "version": 1,
      "views": {
       "grid_default": {
        "hidden": true
       },
       "report_default": {
        "hidden": true
       }
      }
     }
    }
   },
   "outputs": [],
   "source": [
    "kanawha_river_sites = pd.read_csv('Kanawha/kanawha_river_sites2.csv')\n",
    "site_geometries = gpd.GeoSeries(kanawha_river_sites.apply(lambda z: Point(z['Longitude'],z['Latitude']),1),crs={'init':'epsg:4326'})\n",
    "kanawha_river_sites = gpd.GeoDataFrame(kanawha_river_sites.drop(['Latitude','Longitude'],1),geometry=site_geometries)\n",
    "#kanawha_river_sites"
   ]
  },
  {
   "cell_type": "markdown",
   "metadata": {
    "extensions": {
     "jupyter_dashboards": {
      "version": 1,
      "views": {
       "grid_default": {
        "col": 0,
        "height": 4,
        "hidden": false,
        "row": 43,
        "width": 4
       },
       "report_default": {
        "hidden": false
       }
      }
     }
    }
   },
   "source": [
    "### Generate map of all sampling sites"
   ]
  },
  {
   "cell_type": "code",
   "execution_count": 14,
   "metadata": {
    "extensions": {
     "jupyter_dashboards": {
      "version": 1,
      "views": {
       "grid_default": {
        "hidden": true
       },
       "report_default": {
        "hidden": true
       }
      }
     }
    }
   },
   "outputs": [],
   "source": [
    "kanawha_map = folium.Map([38.24, -81.36],zoom_start=10,tiles=None)"
   ]
  },
  {
   "cell_type": "markdown",
   "metadata": {},
   "source": [
    "#### TODO: \n",
    " * Look into **branca.element.IFrame** to preprocess HTML into IFrame -- construct a graph!\n",
    " * User Folium **MarkerCluster** and **FeatureGroup** to reduce number of markers (on Zoom out) and turn on/off different marker layers\n",
    " * Look at folium.plugins **HeatMap** and **HeatMapWithTime** -- only good for density, not property values!"
   ]
  },
  {
   "cell_type": "code",
   "execution_count": 15,
   "metadata": {},
   "outputs": [],
   "source": [
    " for i, row in kanawha_river_sites.iterrows():\n",
    "    coord = [row.geometry.y,row.geometry.x]\n",
    "    label = row.Type#+' @ '+row.Name\n",
    "    marker_type = 'pin'\n",
    "    radius = 1\n",
    "    color = 'red'\n",
    "    # Available colors: red, darkred, lightred, pink, green, darkgreen, lightgreen, blue, darkblue, lightblue, cadetblue, purple, darkpurple, orange, beige, black, gray, lightgray\n",
    "    icon = 'dashboard'\n",
    "    html = label\n",
    "    width = 500\n",
    "    height = 90\n",
    "    max_width = 1000\n",
    "    nav_params = '?distance=100'\n",
    "    if (row.Type == 'Transect'):\n",
    "        color = 'beige'\n",
    "        html += '<br>'+row.Description\n",
    "    elif (row.Type == 'USGS Gage'):\n",
    "        if (row.Name == 'Kanawha Falls'):\n",
    "            nwis_site_json = gpd.read_file(\"https://cida.usgs.gov/nldi/nwissite/USGS-0{0:.0f}\".format(row['USGS Code']))\n",
    "            comid = nwis_site_json.comid[0]\n",
    "            comid_url = \"https://cida.usgs.gov/nldi/comid/\"+comid\n",
    "            #folium.GeoJson(nwis_site_json,name=\"NLDI USGS Gage\",show=False).add_to(kanawha_map)\n",
    "            folium.GeoJson(comid_url+\"/basin\",name=\"Drainage Basin for USGS-0{0:.0f}\".format(row['USGS Code']),show=False).add_to(kanawha_map)\n",
    "            folium.GeoJson(comid_url+\"/navigate/UM\",name=\"Upstream Main\",show=False).add_to(kanawha_map)\n",
    "            folium.GeoJson(comid_url+\"/navigate/UT\"+nav_params,name=\"Tributaries Upstream\",show=False).add_to(kanawha_map)\n",
    "            folium.GeoJson(comid_url+\"/navigate/UM/nwissite\"+nav_params,name=\"NWIS Sites Upstream Main\",show=False).add_to(kanawha_map)\n",
    "            folium.GeoJson(comid_url+\"/navigate/UM/huc12pp\"+nav_params,name=\"HUC12 Pour Points Upstream Main\",show=False).add_to(kanawha_map)\n",
    "            folium.GeoJson(comid_url+\"/navigate/UM/wqp\"+nav_params,name=\"WQP Stations Upstream Main\",show=False).add_to(kanawha_map)\n",
    "            folium.GeoJson(comid_url+\"/navigate/DM\",name=\"Downstream Main\",show=False).add_to(kanawha_map)\n",
    "            folium.GeoJson(comid_url+\"/navigate/DD\"+nav_params,name=\"Downstream Diversions\",show=False).add_to(kanawha_map)\n",
    "            folium.GeoJson(comid_url+\"/navigate/DM/nwissite\"+nav_params,name=\"NWIS Sites Downstream Main\",show=False).add_to(kanawha_map)\n",
    "            folium.GeoJson(comid_url+\"/navigate/DM/huc12pp\"+nav_params,name=\"HUC12 Pour Points Downstream Main\",show=False).add_to(kanawha_map)\n",
    "            folium.GeoJson(comid_url+\"/navigate/DM/wqp\"+nav_params,name=\"WQP Stations Downstream Main\",show=False).add_to(kanawha_map)\n",
    "        if (row.Name == 'Charleston'):\n",
    "            nwis_site_url = \"https://cida.usgs.gov/nldi/nwissite/USGS-0{0:.0f}\".format(row['USGS Code'])\n",
    "            nwis_site_json = gpd.read_file(nwis_site_url)\n",
    "            folium.GeoJson(nwis_site_url+\"/basin\",name=\"Drainage Basin for USGS-0{0:.0f}\".format(row['USGS Code']),show=False).add_to(kanawha_map)\n",
    "            folium.GeoJson(nwis_site_url+\"/navigate/UT/huc12pp\"+nav_params,name=\"HUC12 Pour Points Upstream Tributaries\",show=False).add_to(kanawha_map)\n",
    "            folium.GeoJson(nwis_site_url+\"/navigate/UT/wqp\"+nav_params,name=\"WQP Stations Upstream Tributaries\",show=False).add_to(kanawha_map)\n",
    "        marker_type = 'circle'\n",
    "        radius = 8\n",
    "        color = 'green'\n",
    "        fill = True\n",
    "        fill_color = color\n",
    "        html += '<br><a href=\\\"https://waterdata.usgs.gov/monitoring-location/0{0:.0f}'.format(row['USGS Code'])+'\\\",target=\\\"_blank\\\">Site info for USGS Gage: 0{0:.0f}'.format(row['USGS Code'])+'</a>'\n",
    "        html += '<br><a href=\\\"https://waterdata.usgs.gov/nwis/uv?site_no=0{0:.0f}'.format(row['USGS Code'])+'\\\",target=\\\"_blank\\\">Data for USGS Gage: 0{0:.0f}'.format(row['USGS Code'])+'</a>'\n",
    "        width = 1000\n",
    "        height = 500\n",
    "    elif (row.Type == 'Locks and Dam'):\n",
    "        marker_type = 'circle'\n",
    "        radius = 8\n",
    "        color = 'black'\n",
    "        fill = True\n",
    "        fill_color = color\n",
    "        html += '<br><a href=\\\"http://www.lrh-wc.usace.army.mil/wm/?river/kanawha'+'\\\",target=\\\"_blank\\\">Data access to river: {0:s}'.format(row['USACE Code'])+'</a>' \n",
    "        width = 1000\n",
    "        height = 500\n",
    "    elif (row.Type == 'Sonde Data'):\n",
    "        marker_type = 'circle'\n",
    "        radius = 10\n",
    "        color = 'red'\n",
    "        fill = True\n",
    "        fill_color = color\n",
    "        html += '<br>'+row.Description\n",
    "        width = 1000\n",
    "        height = 500\n",
    "    else:\n",
    "        continue\n",
    "    html += '<br>Lat: {0:.2f}'.format(row.geometry.y)+', Lon: {0:.2f}'.format(row.geometry.x)\n",
    "  #  html += '<br>RMI: {0:.1f}'.format(row.RMI)\n",
    "    iframe = folium.IFrame(html,width=width,height=height)\n",
    "    popup = folium.Popup(iframe,max_width=max_width)\n",
    "    if (marker_type == 'pin'):\n",
    "        folium.Marker(location=coord,icon=folium.Icon(color=color,icon=icon),popup=popup,tooltip=label).add_to(kanawha_map)\n",
    "    elif (marker_type == 'circle'):\n",
    "        folium.CircleMarker(location=coord,radius=radius,color=color,popup=popup,tooltip=label).add_to(kanawha_map)\n",
    "    else:\n",
    "        continue"
   ]
  },
  {
   "cell_type": "markdown",
   "metadata": {
    "extensions": {
     "jupyter_dashboards": {
      "version": 1,
      "views": {
       "grid_default": {},
       "report_default": {
        "hidden": false
       }
      }
     }
    }
   },
   "source": [
    "#### Add the builtin OpenStreetMap and Stamen Terrain basemaps"
   ]
  },
  {
   "cell_type": "code",
   "execution_count": 16,
   "metadata": {
    "extensions": {
     "jupyter_dashboards": {
      "version": 1,
      "views": {
       "grid_default": {},
       "report_default": {
        "hidden": false
       }
      }
     }
    }
   },
   "outputs": [
    {
     "data": {
      "text/plain": [
       "<folium.raster_layers.TileLayer at 0x26e2f74d470>"
      ]
     },
     "execution_count": 16,
     "metadata": {},
     "output_type": "execute_result"
    }
   ],
   "source": [
    "folium.TileLayer('OpenStreetMap').add_to(kanawha_map)\n",
    "folium.TileLayer('StamenTerrain').add_to(kanawha_map)"
   ]
  },
  {
   "cell_type": "markdown",
   "metadata": {
    "extensions": {
     "jupyter_dashboards": {
      "version": 1,
      "views": {
       "grid_default": {},
       "report_default": {
        "hidden": false
       }
      }
     }
    }
   },
   "source": [
    "#### Add other basemap options using Map Servers at  ArcGIS Online"
   ]
  },
  {
   "cell_type": "code",
   "execution_count": 17,
   "metadata": {
    "extensions": {
     "jupyter_dashboards": {
      "version": 1,
      "views": {
       "grid_default": {},
       "report_default": {
        "hidden": true
       }
      }
     }
    }
   },
   "outputs": [],
   "source": [
    "mapserver_query = '/MapServer/tile/{z}/{y}/{x}'\n",
    "ESRI = dict(NatGeo_World_Map='http://services.arcgisonline.com/arcgis/rest/services/NatGeo_World_Map/MapServer',\n",
    "            World_Imagery='http://services.arcgisonline.com/arcgis/rest/services/World_Imagery/MapServer',\n",
    "            World_Shaded_Relief='http://services.arcgisonline.com/arcgis/rest/services/World_Shaded_Relief/MapServer',\n",
    "            World_Street_Map='http://services.arcgisonline.com/arcgis/rest/services/World_Street_Map/MapServer',\n",
    "            World_Topo_Map='http://services.arcgisonline.com/arcgis/rest/services/World_Topo_Map/MapServer',\n",
    "            World_Hydro_Reference='http://hydrology.esri.com/arcgis/rest/services/WorldHydroReferenceOverlay/MapServer')\n",
    "\n",
    "for tile_name, tile_url in ESRI.items():\n",
    "    tile_url += mapserver_query\n",
    "    folium.TileLayer(tile_url,name=tile_name,attr=tile_name).add_to(kanawha_map)"
   ]
  },
  {
   "cell_type": "markdown",
   "metadata": {},
   "source": [
    "#### Add HUC boundaries \n",
    " * First example converts a HUC10 .shp file to GeoJSON\n",
    " * Second example streams GeoJSON from the USGS National Map (NHDPlus) HUC12 Web Service using bounding box (envelope)"
   ]
  },
  {
   "cell_type": "code",
   "execution_count": 18,
   "metadata": {},
   "outputs": [],
   "source": [
    "#folium.GeoJson(\"https://hydro.nationalmap.gov/arcgis/rest/services/NHDPlus_HR/MapServer/11/query?where=&text=&objectIds=&time=&geometry=-83%2C38.4%2C-82%2C38.7&geometryType=esriGeometryEnvelope&inSR=&spatialRel=esriSpatialRelIntersects&relationParam=&outFields=&returnGeometry=true&returnTrueCurves=false&maxAllowableOffset=&geometryPrecision=&outSR=&having=&returnIdsOnly=false&returnCountOnly=false&orderByFields=&groupByFieldsForStatistics=&outStatistics=&returnZ=false&returnM=false&gdbVersion=&historicMoment=&returnDistinctValues=false&resultOffset=&resultRecordCount=&queryByDistance=&returnExtentOnly=false&datumTransformation=&parameterValues=&rangeValues=&quantizationParameters=&f=geojson\",show=False,name='HUC12 Boundararies').add_to(kanawha_map)"
   ]
  },
  {
   "cell_type": "markdown",
   "metadata": {},
   "source": [
    "#### Add Streams \n",
    " * Why do only certain segments appear?"
   ]
  },
  {
   "cell_type": "code",
   "execution_count": 19,
   "metadata": {},
   "outputs": [],
   "source": [
    "#folium.GeoJson(\"https://hydro.nationalmap.gov/arcgis/rest/services/NHDPlus_HR/MapServer/2/query?where=FTYPE%3D460&text=&objectIds=&time=&geometry=-83%2C38.4%2C-82%2C38.7&geometryType=esriGeometryEnvelope&inSR=&spatialRel=esriSpatialRelIntersects&relationParam=&outFields=&returnGeometry=true&returnTrueCurves=false&maxAllowableOffset=&geometryPrecision=&outSR=&having=&returnIdsOnly=false&returnCountOnly=false&orderByFields=&groupByFieldsForStatistics=&outStatistics=&returnZ=false&returnM=false&gdbVersion=&historicMoment=&returnDistinctValues=false&resultOffset=&resultRecordCount=&queryByDistance=&returnExtentOnly=false&datumTransformation=&parameterValues=&rangeValues=&quantizationParameters=&f=geojson\",show=False,name='Streams').add_to(kanawha_map)"
   ]
  },
  {
   "cell_type": "markdown",
   "metadata": {},
   "source": [
    "#### Add raster (image) overlayers of the Study Area\n",
    " * Shapefile of three drainage areas\n",
    " \n",
    "#### TODO:\n",
    " * Tiles of drainage areas\n",
    " * Delimiting drainage area based on location of USGS flow gages\n",
    " * Location of weather stations\n",
    " "
   ]
  },
  {
   "cell_type": "code",
   "execution_count": 20,
   "metadata": {},
   "outputs": [
    {
     "data": {
      "text/plain": [
       "<folium.map.Marker at 0x26e305b7d68>"
      ]
     },
     "execution_count": 20,
     "metadata": {},
     "output_type": "execute_result"
    }
   ],
   "source": [
    "\n",
    "gdf = gpd.GeoDataFrame.from_file(\"Kanawha/StudyArea.shx\")\n",
    "folium.GeoJson(gdf, name=\"Three Drainage Areas\", show=True).add_to(kanawha_map) ## Specs of 1, 2 & 3 Drainage sections\n",
    "folium.Marker(['38.1','-81.3'], popup='Drainage Section 1', icon = folium.Icon(color='darkblue')).add_to(kanawha_map)\n",
    "folium.Marker(['38.36','-81.4'], popup='Drainage Section 2', icon = folium.Icon(color='darkblue')).add_to(kanawha_map)\n",
    "folium.Marker(['38.45','-81.7'], popup='Drainage Section 3', icon = folium.Icon(color='darkblue')).add_to(kanawha_map)\n",
    "###USGS FLOW GAGES\n",
    "folium.Marker(['38.1381','-81.2144'], popup='Kanawha Falls \\nUSGS Flow Gage', icon = folium.Icon(color='blue')).add_to(kanawha_map)\n",
    "folium.Marker(['38.4708','-81.2842'], popup='Elk River at Queen Shoals \\nUSGS Flow Gage', icon = folium.Icon(color='blue')).add_to(kanawha_map)\n",
    "folium.Marker(['38.3714','-81.7022'], popup='Charleston \\nUSGS Flow Gage', icon = folium.Icon(color='blue')).add_to(kanawha_map)\n",
    "folium.Marker(['38.3389','-81.8417'], popup='Coal River \\nUSGS Flow Gage', icon = folium.Icon(color='blue')).add_to(kanawha_map)\n",
    "folium.Marker(['38.5261','-81.6314'], popup='Pocatalico River \\nUSGS Flow Gage', icon = folium.Icon(color='blue')).add_to(kanawha_map)\n",
    "###CLIMATE STATIONS\n",
    "folium.Marker(['38.3794','-81.5900'], popup='Charleston Yeager Airport \\nUSGS Flow Gage', icon = folium.Icon(color='orange')).add_to(kanawha_map)\n",
    "folium.Marker(['38.3131','-81.7192'], popup='National Weather Service South Charleston \\nUSGS Flow Gage', icon = folium.Icon(color='orange')).add_to(kanawha_map)"
   ]
  },
  {
   "cell_type": "markdown",
   "metadata": {
    "extensions": {
     "jupyter_dashboards": {
      "version": 1,
      "views": {
       "grid_default": {},
       "report_default": {
        "hidden": false
       }
      }
     }
    }
   },
   "source": [
    "#### Add the Layer Control widget"
   ]
  },
  {
   "cell_type": "code",
   "execution_count": 21,
   "metadata": {
    "extensions": {
     "jupyter_dashboards": {
      "version": 1,
      "views": {
       "grid_default": {},
       "report_default": {
        "hidden": false
       }
      }
     }
    }
   },
   "outputs": [
    {
     "data": {
      "text/plain": [
       "<folium.map.LayerControl at 0x26e305a9198>"
      ]
     },
     "execution_count": 21,
     "metadata": {},
     "output_type": "execute_result"
    }
   ],
   "source": [
    "folium.LayerControl().add_to(kanawha_map)"
   ]
  },
  {
   "cell_type": "markdown",
   "metadata": {
    "extensions": {
     "jupyter_dashboards": {
      "version": 1,
      "views": {
       "grid_default": {},
       "report_default": {
        "hidden": false
       }
      }
     }
    }
   },
   "source": [
    "#### Save the map as HTML and display it\n",
    " * Suppress before publishing as read-only Tool\n",
    "\n",
    "<div id='map' />"
   ]
  },
  {
   "cell_type": "markdown",
   "metadata": {
    "extensions": {
     "jupyter_dashboards": {
      "version": 1,
      "views": {
       "grid_default": {},
       "report_default": {
        "hidden": false
       }
      }
     }
    }
   },
   "source": [
    "## Map"
   ]
  },
  {
   "cell_type": "code",
   "execution_count": 22,
   "metadata": {
    "extensions": {
     "jupyter_dashboards": {
      "version": 1,
      "views": {
       "grid_default": {},
       "report_default": {
        "hidden": true
       }
      }
     }
    }
   },
   "outputs": [],
   "source": [
    "kanawha_map.save('kanawha_map.html')"
   ]
  },
  {
   "cell_type": "code",
   "execution_count": 23,
   "metadata": {
    "extensions": {
     "jupyter_dashboards": {
      "version": 1,
      "views": {
       "grid_default": {
        "col": 0,
        "height": 21,
        "hidden": false,
        "row": 51,
        "width": 10
       },
       "report_default": {
        "hidden": false
       }
      }
     }
    },
    "scrolled": true
   },
   "outputs": [
    {
     "data": {
      "text/html": [
       "\n",
       "        <iframe\n",
       "            width=\"1000\"\n",
       "            height=\"500\"\n",
       "            src=\"kanawha_map.html\"\n",
       "            frameborder=\"0\"\n",
       "            allowfullscreen\n",
       "        ></iframe>\n",
       "        "
      ],
      "text/plain": [
       "<IPython.lib.display.IFrame at 0x26e2f74dc50>"
      ]
     },
     "execution_count": 23,
     "metadata": {},
     "output_type": "execute_result"
    }
   ],
   "source": [
    "from IPython.display import IFrame\n",
    "IFrame(\"kanawha_map.html\", width=1000, height=500)"
   ]
  },
  {
   "cell_type": "markdown",
   "metadata": {},
   "source": [
    "## == Transects ==\n",
    "## == Water Quality Data source available in: https://doi.org/10.6084/m9.figshare.9786212"
   ]
  },
  {
   "cell_type": "markdown",
   "metadata": {
    "extensions": {
     "jupyter_dashboards": {
      "version": 1,
      "views": {
       "grid_default": {
        "col": 8,
        "height": 4,
        "hidden": false,
        "row": 0,
        "width": 4
       },
       "report_default": {
        "hidden": false
       }
      }
     }
    }
   },
   "source": [
    "### Read in CSV-formatted table of geo-tagged and time-stamped sensor data from the transects into a DataFrame"
   ]
  },
  {
   "cell_type": "markdown",
   "metadata": {
    "extensions": {
     "jupyter_dashboards": {
      "version": 1,
      "views": {
       "grid_default": {},
       "report_default": {
        "hidden": false
       }
      }
     }
    }
   },
   "source": [
    "#### Get Sonde data"
   ]
  },
  {
   "cell_type": "code",
   "execution_count": 24,
   "metadata": {
    "extensions": {
     "jupyter_dashboards": {
      "version": 1,
      "views": {
       "grid_default": {
        "hidden": true
       },
       "report_default": {
        "hidden": true
       }
      }
     }
    }
   },
   "outputs": [],
   "source": [
    "transects_sonde = pd.read_csv('Kanawha/transects_sonde2.csv',encoding='latin1')"
   ]
  },
  {
   "cell_type": "markdown",
   "metadata": {
    "extensions": {
     "jupyter_dashboards": {
      "version": 1,
      "views": {
       "grid_default": {},
       "report_default": {
        "hidden": false
       }
      }
     }
    }
   },
   "source": [
    "#### Get PAR data (Transects PAR data excluded for Kanawha River)"
   ]
  },
  {
   "cell_type": "code",
   "execution_count": 25,
   "metadata": {
    "extensions": {
     "jupyter_dashboards": {
      "version": 1,
      "views": {
       "grid_default": {},
       "report_default": {
        "hidden": true
       }
      }
     }
    }
   },
   "outputs": [],
   "source": [
    "#transects_par = pd.read_csv('data/Greenup/transects_par.csv',encoding='latin1')"
   ]
  },
  {
   "cell_type": "markdown",
   "metadata": {
    "extensions": {
     "jupyter_dashboards": {
      "version": 1,
      "views": {
       "grid_default": {
        "col": 0,
        "height": 4,
        "hidden": false,
        "row": 22,
        "width": 4
       },
       "report_default": {
        "hidden": false
       }
      }
     }
    }
   },
   "source": [
    "#### Parse out Horizontal and Vertical position codes along transect "
   ]
  },
  {
   "cell_type": "code",
   "execution_count": 26,
   "metadata": {
    "extensions": {
     "jupyter_dashboards": {
      "version": 1,
      "views": {
       "grid_default": {
        "hidden": true
       },
       "report_default": {
        "hidden": true
       }
      }
     }
    }
   },
   "outputs": [],
   "source": [
    "transects_sonde['H Code'] = transects_sonde['Site Name'].apply(lambda x: x[0])\n",
    "transects_sonde['V Code'] = transects_sonde['Site Name'].apply(lambda x: x[1:])"
   ]
  },
  {
   "cell_type": "code",
   "execution_count": 27,
   "metadata": {
    "extensions": {
     "jupyter_dashboards": {
      "version": 1,
      "views": {
       "grid_default": {
        "hidden": true
       },
       "report_default": {
        "hidden": true
       }
      }
     }
    }
   },
   "outputs": [],
   "source": [
    "#transects_par['H Code'] = transects_par['SITE'].apply(lambda x: x[0])\n",
    "#transects_par['V Code'] = transects_par['SITE'].apply(lambda x: x[1:])"
   ]
  },
  {
   "cell_type": "markdown",
   "metadata": {
    "extensions": {
     "jupyter_dashboards": {
      "version": 1,
      "views": {
       "grid_default": {
        "col": 4,
        "height": 4,
        "hidden": false,
        "row": 22,
        "width": 4
       },
       "report_default": {
        "hidden": false
       }
      }
     }
    }
   },
   "source": [
    "#### Create Data-Time field from Date and Time fields"
   ]
  },
  {
   "cell_type": "code",
   "execution_count": 28,
   "metadata": {
    "extensions": {
     "jupyter_dashboards": {
      "version": 1,
      "views": {
       "grid_default": {
        "hidden": true
       },
       "report_default": {
        "hidden": true
       }
      }
     }
    }
   },
   "outputs": [],
   "source": [
    "def datetime_sonde(row):\n",
    "    pattern = '%m/%d/%Y-%H:%M:%S'\n",
    "    dt = row['Date (MM/DD/YYYY)']+'-'+row['Time (HH:MM:SS)']\n",
    "    return pd.to_datetime(time.mktime(time.strptime(dt,pattern)),unit='s')\n",
    "    \n",
    "transects_sonde['Date-Time'] = transects_sonde.apply(lambda row: datetime_sonde(row),axis=1)"
   ]
  },
  {
   "cell_type": "code",
   "execution_count": 29,
   "metadata": {
    "extensions": {
     "jupyter_dashboards": {
      "version": 1,
      "views": {
       "grid_default": {
        "hidden": true
       },
       "report_default": {
        "hidden": true
       }
      }
     }
    }
   },
   "outputs": [],
   "source": [
    "#def datetime_par(row):\n",
    "#    pattern = '%m/%d/%Y-%I:%M:%S %p'\n",
    "#    dt = row['Date']+'-'+row['Time']\n",
    "#    return pd.to_datetime(time.mktime(time.strptime(dt,pattern)),unit='s')\n",
    "    \n",
    "#transects_par['Date-Time_par'] = transects_par.apply(lambda row: datetime_par(row),axis=1)"
   ]
  },
  {
   "cell_type": "markdown",
   "metadata": {
    "extensions": {
     "jupyter_dashboards": {
      "version": 1,
      "views": {
       "grid_default": {
        "col": 8,
        "height": 4,
        "hidden": false,
        "row": 22,
        "width": 4
       },
       "report_default": {
        "hidden": false
       }
      }
     }
    }
   },
   "source": [
    "#### Filter out Test samples from Sonde data \n",
    " * TO DO: Consider dropping in place"
   ]
  },
  {
   "cell_type": "code",
   "execution_count": 30,
   "metadata": {
    "extensions": {
     "jupyter_dashboards": {
      "version": 1,
      "views": {
       "grid_default": {
        "hidden": true
       },
       "report_default": {
        "hidden": true
       }
      }
     }
    }
   },
   "outputs": [],
   "source": [
    "transects_sonde = transects_sonde[transects_sonde['Site Name'].str.contains('Test')==False]"
   ]
  },
  {
   "cell_type": "markdown",
   "metadata": {
    "extensions": {
     "jupyter_dashboards": {
      "version": 1,
      "views": {
       "grid_default": {
        "col": 0,
        "height": 4,
        "hidden": false,
        "row": 26,
        "width": 4
       },
       "report_default": {
        "hidden": false
       }
      }
     }
    }
   },
   "source": [
    "#### Convert Transect and Horizontal positions to numbers (for plotting profiles)"
   ]
  },
  {
   "cell_type": "code",
   "execution_count": 31,
   "metadata": {
    "extensions": {
     "jupyter_dashboards": {
      "version": 1,
      "views": {
       "grid_default": {
        "hidden": true
       },
       "report_default": {
        "hidden": true
       }
      }
     }
    }
   },
   "outputs": [],
   "source": [
    "transects_sonde['T Pos'] = transects_sonde['Transect'].apply(lambda x: int(x[2:]))\n",
    "transects_sonde['H Pos'] = transects_sonde['H Code'].apply(lambda x: int(x))"
   ]
  },
  {
   "cell_type": "code",
   "execution_count": 32,
   "metadata": {
    "extensions": {
     "jupyter_dashboards": {
      "version": 1,
      "views": {
       "grid_default": {},
       "report_default": {
        "hidden": true
       }
      }
     }
    }
   },
   "outputs": [],
   "source": [
    "#transects_par['T Pos'] = transects_par['Transect'].apply(lambda x: int(x[2:]))\n",
    "#transects_par['H Pos'] = transects_par['H Code'].apply(lambda x: int(x))"
   ]
  },
  {
   "cell_type": "markdown",
   "metadata": {
    "extensions": {
     "jupyter_dashboards": {
      "version": 1,
      "views": {
       "grid_default": {
        "col": 4,
        "height": 4,
        "hidden": false,
        "row": 26,
        "width": 4
       },
       "report_default": {
        "hidden": false
       }
      }
     }
    }
   },
   "source": [
    "#### Filter out non-data, empty columns (like TSS), and reduntant columns (like chlorophyll, BGA, conductivity, pH, and depth)"
   ]
  },
  {
   "cell_type": "code",
   "execution_count": 33,
   "metadata": {
    "extensions": {
     "jupyter_dashboards": {
      "version": 1,
      "views": {
       "grid_default": {
        "hidden": true
       },
       "report_default": {
        "hidden": true
       }
      }
     }
    }
   },
   "outputs": [],
   "source": [
    "transects_sonde_dataonly = transects_sonde.drop(transects_sonde.columns[:8],axis=1) \\\n",
    "    .drop(transects_sonde.columns[[10,11,12]],axis=1) \\\n",
    "    .drop(transects_sonde.columns[[13,15,16]],axis=1) \\\n",
    "    .drop(transects_sonde.columns[[17,18,19]],axis=1) \\\n",
    "    .drop(transects_sonde.columns[[20,21,23]],axis=1) \\\n",
    "    .drop(transects_sonde.columns[[25]],axis=1)"
   ]
  },
  {
   "cell_type": "code",
   "execution_count": 34,
   "metadata": {
    "extensions": {
     "jupyter_dashboards": {
      "version": 1,
      "views": {
       "grid_default": {},
       "report_default": {
        "hidden": true
       }
      }
     }
    }
   },
   "outputs": [],
   "source": [
    "#transects_par_dataonly = transects_par.drop(transects_par.columns[:3],axis=1).drop(['H Code','BATT','SITE','CHK','Date-Time_par'],axis=1) \\\n",
    "#    .drop(['PAR_MAX','PAR_MIN'],axis=1)"
   ]
  },
  {
   "cell_type": "markdown",
   "metadata": {
    "extensions": {
     "jupyter_dashboards": {
      "version": 1,
      "views": {
       "grid_default": {},
       "report_default": {
        "hidden": false
       }
      }
     }
    }
   },
   "source": [
    "#### Create 3-part Index from T, H, and V values to help join Sonde and PAR(Excluded) data \n",
    " * Only keep one set of original columns (Sonde)"
   ]
  },
  {
   "cell_type": "code",
   "execution_count": 35,
   "metadata": {
    "extensions": {
     "jupyter_dashboards": {
      "version": 1,
      "views": {
       "grid_default": {},
       "report_default": {
        "hidden": true
       }
      }
     }
    }
   },
   "outputs": [],
   "source": [
    "transects_sonde_dataonly = transects_sonde_dataonly.set_index(['T Pos','H Pos','V Code'],drop=False)"
   ]
  },
  {
   "cell_type": "code",
   "execution_count": 36,
   "metadata": {
    "extensions": {
     "jupyter_dashboards": {
      "version": 1,
      "views": {
       "grid_default": {},
       "report_default": {
        "hidden": true
       }
      }
     }
    }
   },
   "outputs": [],
   "source": [
    "#transects_par_dataonly = transects_par_dataonly.set_index(['T Pos','H Pos','V Code'],drop=True)"
   ]
  },
  {
   "cell_type": "markdown",
   "metadata": {
    "extensions": {
     "jupyter_dashboards": {
      "version": 1,
      "views": {
       "grid_default": {},
       "report_default": {
        "hidden": false
       }
      }
     }
    }
   },
   "source": [
    "#### Combine/Rename (merge/join) Sonde data \n",
    " * Get rid of 'V Code' column, which is no longer needed"
   ]
  },
  {
   "cell_type": "code",
   "execution_count": 37,
   "metadata": {
    "extensions": {
     "jupyter_dashboards": {
      "version": 1,
      "views": {
       "grid_default": {},
       "report_default": {
        "hidden": true
       }
      }
     }
    }
   },
   "outputs": [],
   "source": [
    "transects_sonde_par = transects_sonde_dataonly"
   ]
  },
  {
   "cell_type": "markdown",
   "metadata": {
    "extensions": {
     "jupyter_dashboards": {
      "version": 1,
      "views": {
       "grid_default": {
        "hidden": true
       },
       "report_default": {
        "hidden": true
       }
      }
     }
    }
   },
   "source": [
    "#### Create column for Chlorophyll / BGA ratio (No needed for Kanawha River, WV)\n",
    " * Fix ranges first to keep numerator positive and denominator > zero"
   ]
  },
  {
   "cell_type": "code",
   "execution_count": 38,
   "metadata": {},
   "outputs": [],
   "source": [
    "#transects_sonde_par['Chlorophyll µg/L'] = transects_sonde_par['Chlorophyll µg/L'].apply(lambda x: 0.0 if x < 0.0 else x)"
   ]
  },
  {
   "cell_type": "code",
   "execution_count": 39,
   "metadata": {},
   "outputs": [],
   "source": [
    "#transects_sonde_par['BGA-PC µg/L'] = transects_sonde_par['BGA-PC µg/L'].apply(lambda x: 0.1 if x < 0.1 else x)"
   ]
  },
  {
   "cell_type": "code",
   "execution_count": 40,
   "metadata": {},
   "outputs": [],
   "source": [
    "#transects_sonde_par['Chlorophyll/BGA'] = transects_sonde_par.apply(lambda x: x['Chlorophyll µg/L']/x['BGA-PC µg/L'], axis=1)\n",
    "#transects_sonde_par.head()"
   ]
  },
  {
   "cell_type": "markdown",
   "metadata": {},
   "source": [
    "#### Merge in location data, including RMI (No needed for Kanawha River, WV)\n",
    " * Create temporary matching Name column (from 'T Pos') for merging\n",
    " * Drop all unnecessary columns"
   ]
  },
  {
   "cell_type": "code",
   "execution_count": 41,
   "metadata": {},
   "outputs": [],
   "source": [
    "# transects_sonde_par['Name'] = transects_sonde_par['T Pos'].apply(lambda x: 'T-'+str(x))\n",
    "# transects_sonde_par = pd.merge(transects_sonde_par,kanawha_river_sites,on=['Name']).drop(kanawha_river_sites.columns[0:5],axis=1).drop(kanawha_river_sites.columns[6:],axis=1)\n",
    "#transects_sonde_par.columns"
   ]
  },
  {
   "cell_type": "markdown",
   "metadata": {},
   "source": [
    "#### Re-index by datetime"
   ]
  },
  {
   "cell_type": "code",
   "execution_count": 42,
   "metadata": {
    "extensions": {
     "jupyter_dashboards": {
      "version": 1,
      "views": {
       "grid_default": {},
       "report_default": {
        "hidden": true
       }
      }
     }
    }
   },
   "outputs": [],
   "source": [
    "transects_sonde_par = transects_sonde_par.set_index(['Date-Time'])\n",
    "#transects_sonde_par.columns"
   ]
  },
  {
   "cell_type": "markdown",
   "metadata": {},
   "source": [
    "<div id='transect_plots'></div>"
   ]
  },
  {
   "cell_type": "markdown",
   "metadata": {},
   "source": [
    "## Transect Plots (Kanawha River counts with 3 points of observation)\n",
    "## == Water Quality Data source available in: https://doi.org/10.6084/m9.figshare.9786212\n"
   ]
  },
  {
   "cell_type": "markdown",
   "metadata": {
    "extensions": {
     "jupyter_dashboards": {
      "version": 1,
      "views": {
       "grid_default": {
        "col": 8,
        "height": 4,
        "hidden": false,
        "row": 26,
        "width": 4
       },
       "report_default": {
        "hidden": false
       }
      }
     }
    }
   },
   "source": [
    "### Distribution plots of transect data"
   ]
  },
  {
   "cell_type": "code",
   "execution_count": 43,
   "metadata": {
    "extensions": {
     "jupyter_dashboards": {
      "version": 1,
      "views": {
       "grid_default": {
        "col": 0,
        "height": 13,
        "hidden": false,
        "row": 30,
        "width": 4
       },
       "report_default": {
        "hidden": false
       }
      }
     }
    },
    "scrolled": true
   },
   "outputs": [
    {
     "data": {
      "application/vnd.jupyter.widget-view+json": {
       "model_id": "7e31c1b4dbbc498cb8170375c21998fb",
       "version_major": 2,
       "version_minor": 0
      },
      "text/plain": [
       "interactive(children=(Dropdown(description='Property', options=('ODO % sat', 'ODO mg/L', 'Temp °C', 'pH', 'ORP…"
      ]
     },
     "metadata": {},
     "output_type": "display_data"
    },
    {
     "data": {
      "text/plain": [
       "<function __main__.dist_plot_transects(Property, Kind='kde')>"
      ]
     },
     "execution_count": 43,
     "metadata": {},
     "output_type": "execute_result"
    }
   ],
   "source": [
    "def dist_plot_transects(Property,Kind='kde'):\n",
    "    transects_sonde_dataonly[Property].plot(kind=Kind)\n",
    "    \n",
    "interact(dist_plot_transects, \\\n",
    "         Property=transects_sonde_dataonly.columns.drop(['Date-Time','T Pos','H Pos', 'V Code','H Code']), \\\n",
    "         Kind=['hist','kde','box'] \\\n",
    "        )"
   ]
  },
  {
   "cell_type": "markdown",
   "metadata": {
    "extensions": {
     "jupyter_dashboards": {
      "version": 1,
      "views": {
       "grid_default": {
        "col": 4,
        "height": 4,
        "hidden": false,
        "row": 30,
        "width": 4
       },
       "report_default": {
        "hidden": false
       }
      }
     }
    }
   },
   "source": [
    "### Correlation Scatter Plots"
   ]
  },
  {
   "cell_type": "markdown",
   "metadata": {
    "extensions": {
     "jupyter_dashboards": {
      "version": 1,
      "views": {
       "grid_default": {},
       "report_default": {
        "hidden": false
       }
      }
     }
    }
   },
   "source": [
    "#### Scatter matrix for all properties (disabled due to size)"
   ]
  },
  {
   "cell_type": "code",
   "execution_count": 44,
   "metadata": {
    "extensions": {
     "jupyter_dashboards": {
      "version": 1,
      "views": {
       "grid_default": {
        "hidden": true
       },
       "report_default": {
        "hidden": true
       }
      }
     }
    }
   },
   "outputs": [],
   "source": [
    "#scatter_matrix(transects_sonde_par,figsize=(20.0,20.0),diagonal='kde')"
   ]
  },
  {
   "cell_type": "markdown",
   "metadata": {
    "extensions": {
     "jupyter_dashboards": {
      "version": 1,
      "views": {
       "grid_default": {},
       "report_default": {
        "hidden": false
       }
      }
     }
    }
   },
   "source": [
    "#### Individual scatter plots (3rd property used for color map)"
   ]
  },
  {
   "cell_type": "code",
   "execution_count": 45,
   "metadata": {
    "extensions": {
     "jupyter_dashboards": {
      "version": 1,
      "views": {
       "grid_default": {
        "hidden": true
       },
       "report_default": {
        "hidden": true
       }
      }
     }
    }
   },
   "outputs": [
    {
     "data": {
      "application/vnd.jupyter.widget-view+json": {
       "model_id": "9997371002b8408ba3f57da59e422d2d",
       "version_major": 2,
       "version_minor": 0
      },
      "text/plain": [
       "interactive(children=(Dropdown(description='YProperty', options=('ODO % sat', 'ODO mg/L', 'Temp °C', 'pH', 'OR…"
      ]
     },
     "metadata": {},
     "output_type": "display_data"
    },
    {
     "data": {
      "text/plain": [
       "<function __main__.scatter_plot_transects(YProperty='ODO % sat', XProperty='ODO mg/L', CProperty='pH', ColorMap='jet')>"
      ]
     },
     "execution_count": 45,
     "metadata": {},
     "output_type": "execute_result"
    }
   ],
   "source": [
    "def scatter_plot_transects(YProperty=transects_sonde_par.columns[0],XProperty=transects_sonde_par.columns[1],CProperty=transects_sonde_par.columns[3],ColorMap='jet'):\n",
    "    fig, ax = plt.subplots()\n",
    "    transects_sonde_par.plot.scatter(ax=ax,x=XProperty,y=YProperty,c=CProperty,cmap=ColorMap,s=4)\n",
    "    ax.set_title(\"Correlation of \"+YProperty+\" and \"+XProperty,fontsize=14)\n",
    "    \n",
    "interact(scatter_plot_transects, \\\n",
    "         YProperty=transects_sonde_par.columns.drop(['T Pos','H Pos', 'V Code','H Code']), \\\n",
    "         XProperty=transects_sonde_par.columns.drop(['T Pos','H Pos', 'V Code','H Code']), \\\n",
    "         CProperty=transects_sonde_par.columns.drop(['T Pos','H Pos', 'V Code','H Code']), \\\n",
    "         ColorMap=['jet','viridis','magma','coolwarm','seismic','Greys','Reds','Blues'] \\\n",
    "        )"
   ]
  },
  {
   "cell_type": "markdown",
   "metadata": {
    "extensions": {
     "jupyter_dashboards": {
      "version": 1,
      "views": {
       "grid_default": {
        "col": 8,
        "height": 4,
        "hidden": false,
        "row": 30,
        "width": 4
       },
       "report_default": {
        "hidden": false
       }
      }
     }
    }
   },
   "source": [
    "### Use scatter plot to display depth x width profile for selected transect with data points colored by value of selected property (N/A for Kanawha River, WV)"
   ]
  },
  {
   "cell_type": "code",
   "execution_count": 46,
   "metadata": {
    "extensions": {
     "jupyter_dashboards": {
      "version": 1,
      "views": {
       "grid_default": {
        "hidden": true
       },
       "report_default": {
        "hidden": true
       }
      }
     }
    }
   },
   "outputs": [],
   "source": [
    "# def transect_profile_plot(Transect,Property,ColorMap='jet'):\n",
    "#     fig, ax = plt.subplots()\n",
    "#     transect = transects_sonde_par[transects_sonde_par['T Pos']==Transect]\n",
    "#     transect.plot.scatter(ax=ax,x='H Pos',y='Depth m',ylim=(15,0),c=Property,cmap=ColorMap,marker='H',s=250,xticks=[])\n",
    "#     ax.set_title(\"Transect Profile for \"+Property,fontsize=14)\n",
    "#     ax.set(ylabel=\"Depth\",xlabel=\"Cross-River Position\")\n",
    "    \n",
    "# interact(transect_profile_plot, \\\n",
    "#          Transect=transects_sonde_par['T Pos'].unique(), \\\n",
    "#          Property=transects_sonde_par.columns.drop(['Depth m','T Pos','H Pos','PAR','RMI']), \\\n",
    "#          ColorMap=['jet','viridis','magma','coolwarm','seismic','Greys','Reds','Blues'] \\\n",
    "#         )"
   ]
  },
  {
   "cell_type": "markdown",
   "metadata": {
    "extensions": {
     "jupyter_dashboards": {
      "version": 1,
      "views": {
       "grid_default": {
        "col": 8,
        "height": 4,
        "hidden": false,
        "row": 34,
        "width": 4
       },
       "report_default": {
        "hidden": false
       }
      }
     }
    }
   },
   "source": [
    "### Loop through all the data columns to create a profile panel (N/A for Kanawha River, WV)"
   ]
  },
  {
   "cell_type": "code",
   "execution_count": 47,
   "metadata": {
    "extensions": {
     "jupyter_dashboards": {
      "version": 1,
      "views": {
       "grid_default": {
        "col": 8,
        "height": 13,
        "hidden": false,
        "row": 38,
        "width": 4
       },
       "report_default": {
        "hidden": false
       }
      }
     }
    }
   },
   "outputs": [],
   "source": [
    "# def transect_profile_panel(Transect,ColorMap='jet'):\n",
    "#     fig, ax = plt.subplots(nrows=2,ncols=5,figsize=(25,10))\n",
    "#     transect = transects_sonde_par\n",
    "#     for col in transects_sonde_par.columns[:13].drop(['H Pos','H Pos', 'Depth m']):\n",
    "#         #transect.plot.scatter(ax=ax[j,i],x='H Pos',y='Depth m',ylim=(14,0),c=col,cmap=ColorMap,marker='H',s=250)\n",
    "#         ax[j,i].axis('off')\n",
    "#         if i < 4:\n",
    "#             i = i + 1\n",
    "#         else:\n",
    "#             i = 0\n",
    "#             j = j + 1\n",
    "            \n",
    "# interact(transect_profile_panel, \\\n",
    "#          Transect=transects_sonde_par, \\\n",
    "#          ColorMap=['jet','viridis','magma','coolwarm','seismic','Greys','Reds','Blues'] \\\n",
    "#         )"
   ]
  },
  {
   "cell_type": "markdown",
   "metadata": {
    "extensions": {
     "jupyter_dashboards": {
      "version": 1,
      "views": {
       "grid_default": {},
       "report_default": {
        "hidden": false
       }
      }
     }
    }
   },
   "source": [
    "### Get transect means and baseline values from corresponding measurements (N/A for Kanawha River, WV)\n",
    "#### TO DO: Move to after base values determined from locks timeseries data"
   ]
  },
  {
   "cell_type": "code",
   "execution_count": 48,
   "metadata": {
    "extensions": {
     "jupyter_dashboards": {
      "version": 1,
      "views": {
       "grid_default": {},
       "report_default": {
        "hidden": true
       }
      }
     }
    }
   },
   "outputs": [],
   "source": [
    "# transects_means_bases = pd.read_csv('data/Greenup/transects_with_bases.csv',encoding='latin1')"
   ]
  },
  {
   "cell_type": "code",
   "execution_count": 49,
   "metadata": {
    "extensions": {
     "jupyter_dashboards": {
      "version": 1,
      "views": {
       "grid_default": {
        "hidden": true
       },
       "report_default": {
        "hidden": true
       }
      }
     }
    }
   },
   "outputs": [],
   "source": [
    "# transects_means_bases = transects_means_bases.drop(['ODO % sat_mean', 'ODO % sat_base', \\\n",
    "#     'Chlorophyll RFU_mean', 'Chlorophyll RFU_base', \\\n",
    "#     'BGA-PC RFU_mean', 'BGA-PC RFU_base', \\\n",
    "#     'SpCond µS/cm_mean', 'SpCond µS/cm_base', \\\n",
    "#     'nLF Cond µS/cm_mean', 'nLF Cond µS/cm_base', \\\n",
    "#     'TDS mg/L_mean', 'TDS mg/L_base', \\\n",
    "#     'pH mV_mean', 'pH mV_base', \\\n",
    "#     'PAR_mean', 'PAR_MIN_mean', 'PAR_MAX_mean', \\\n",
    "#     'ODO % sat_RCB', 'Chlorophyll RFU_RCB', 'BGA-PC RFU_RCB', 'SpCond ÂµS/cm_RCB', 'nLF Cond ÂµS/cm_RCB', 'TDS mg/L_RCB', 'pH mV_RCB', 'Press psi a_RCB', \\\n",
    "#     'ODO % sat_Greenup', 'Chlorophyll RFU_Greenup', 'BGA-PC RFU_Greenup', 'SpCond ÂµS/cm_Greenup', 'nLF Cond ÂµS/cm_Greenup', 'TDS mg/L_Greenup', 'pH mV_Greenup', 'Press psi a_Greenup'],axis=1)\n",
    "# transects_means_bases.columns"
   ]
  },
  {
   "cell_type": "code",
   "execution_count": 50,
   "metadata": {},
   "outputs": [],
   "source": [
    "# transects_means_bases['Chlorophyll/BGA_mean'] = transects_means_bases.apply(lambda x: x['Chlorophyll µg/L_mean']/x['BGA-PC µg/L_mean'], axis=1)\n",
    "# transects_means_bases['Chlorophyll/BGA_base'] = transects_means_bases.apply(lambda x: x['Chlorophyll µg/L_base']/x['BGA-PC µg/L_base'], axis=1)"
   ]
  },
  {
   "cell_type": "markdown",
   "metadata": {
    "extensions": {
     "jupyter_dashboards": {
      "version": 1,
      "views": {
       "grid_default": {},
       "report_default": {
        "hidden": false
       }
      }
     }
    }
   },
   "source": [
    "#### Merge with transect data to do baseline corrections and comparisons with means  (N/A for Kanawha River, WV) "
   ]
  },
  {
   "cell_type": "code",
   "execution_count": 51,
   "metadata": {
    "extensions": {
     "jupyter_dashboards": {
      "version": 1,
      "views": {
       "grid_default": {},
       "report_default": {
        "hidden": true
       }
      }
     }
    }
   },
   "outputs": [],
   "source": [
    "# transects_with_bases = pd.merge(transects_sonde_par,transects_means_bases,on=['T Pos'])\n",
    "# #transects_with_bases.head()"
   ]
  },
  {
   "cell_type": "markdown",
   "metadata": {},
   "source": [
    "<div id='transect_3d_profiles'></div>"
   ]
  },
  {
   "cell_type": "markdown",
   "metadata": {
    "extensions": {
     "jupyter_dashboards": {
      "version": 1,
      "views": {
       "grid_default": {
        "col": 0,
        "height": 4,
        "hidden": false,
        "row": 47,
        "width": 4
       },
       "report_default": {
        "hidden": false
       }
      }
     }
    }
   },
   "source": [
    "### Create pseudo 3D profile showing all transects  (N/A for Kanawha River, WV) "
   ]
  },
  {
   "cell_type": "code",
   "execution_count": 52,
   "metadata": {
    "extensions": {
     "jupyter_dashboards": {
      "version": 1,
      "views": {
       "grid_default": {
        "col": 0,
        "height": 6,
        "hidden": false,
        "row": 72,
        "width": 4
       },
       "report_default": {
        "hidden": false
       }
      }
     }
    }
   },
   "outputs": [],
   "source": [
    "# def plot_3d_transects(Property,Type='Absolute',ColorMap='jet',HAng=30,VAng=0):\n",
    "#     fig = plt.figure(figsize=(5,4))\n",
    "#     ax = plt.axes((0.0,0.0,5.0,1.0),projection='3d',title=Property+' '+Type)\n",
    "#     z = -transects_sonde_par['Depth m']\n",
    "#     y = -transects_sonde_par['RMI']\n",
    "#     x = transects_sonde_par['H Pos']\n",
    "#     if (Type == 'Absolute'):\n",
    "#         c = transects_sonde_par[Property]\n",
    "#     elif(Type == 'WRT Baseline'):\n",
    "#         c = (transects_with_bases[Property]-transects_with_bases[Property+'_base'])/transects_with_bases[Property+'_base']\n",
    "#     elif(Type == 'WRT Transect Mean'):\n",
    "#         c = (transects_with_bases[Property]-transects_with_bases[Property+'_mean'])/transects_with_bases[Property+'_mean']\n",
    "#     scat = ax.scatter(x,y,z,c=c,cmap=ColorMap,s=100,marker='H')\n",
    "#     fig.colorbar(scat)\n",
    "#     ax.view_init(HAng,VAng)\n",
    "    \n",
    "# interact(plot_3d_transects, \\\n",
    "#          Property=transects_sonde_par.columns.drop(['Depth m','T Pos','H Pos','PAR','RMI']),\n",
    "#          Type=['Absolute','WRT Baseline','WRT Transect Mean'],\n",
    "#          ColorMap=['jet','viridis','magma','coolwarm','seismic','Greys','Reds','Blues'],\n",
    "#          HAng=(0,90,5),VAng=(-5,5) \\\n",
    "#         )"
   ]
  },
  {
   "cell_type": "markdown",
   "metadata": {
    "extensions": {
     "jupyter_dashboards": {
      "version": 1,
      "views": {
       "grid_default": {
        "col": 4,
        "height": 4,
        "hidden": false,
        "row": 47,
        "width": 4
       },
       "report_default": {
        "hidden": false
       }
      }
     }
    }
   },
   "source": [
    "#### Test use of Plotly (requires Plotly online account and API key)"
   ]
  },
  {
   "cell_type": "markdown",
   "metadata": {
    "extensions": {
     "jupyter_dashboards": {
      "version": 1,
      "views": {
       "grid_default": {
        "col": 0,
        "height": 6,
        "hidden": false,
        "row": 78,
        "width": 12
       },
       "report_default": {
        "hidden": false
       }
      }
     }
    },
    "scrolled": true
   },
   "source": [
    "```\n",
    "import plotly\n",
    "plotly.tools.set_credentials_file(username='jacks9',api_key='BYcXwx33PGIcLI0SW1W9')\n",
    "import plotly.plotly as py\n",
    "import plotly.figure_factory as ff\n",
    "table = ff.create_table(transects_notests)\n",
    "py.iplot(table,filename='transects-table')\n",
    "```"
   ]
  },
  {
   "cell_type": "markdown",
   "metadata": {},
   "source": [
    "## == ORSANCO Data  (N/A for Kanawha River, WV)  =="
   ]
  },
  {
   "cell_type": "markdown",
   "metadata": {},
   "source": [
    "## Sediment Composition  (N/A for Kanawha River, WV) "
   ]
  },
  {
   "cell_type": "markdown",
   "metadata": {
    "extensions": {
     "jupyter_dashboards": {
      "version": 1,
      "views": {
       "grid_default": {},
       "report_default": {
        "hidden": false
       }
      }
     }
    }
   },
   "source": [
    "#### TODO: \n",
    " * Distribution plots, Correlation plots, Multiple Z plots on same graph\n",
    " * Do same for Fish populations, Macro invertebrates, Substrate types, Water quality\n",
    " * Cross correlations between any pair"
   ]
  },
  {
   "cell_type": "markdown",
   "metadata": {},
   "source": [
    "#### Get Sediment Composition Data (2011)  (N/A for Kanawha River, WV) "
   ]
  },
  {
   "cell_type": "code",
   "execution_count": 53,
   "metadata": {
    "extensions": {
     "jupyter_dashboards": {
      "version": 1,
      "views": {
       "grid_default": {
        "hidden": true
       },
       "report_default": {
        "hidden": true
       }
      }
     }
    }
   },
   "outputs": [],
   "source": [
    "# locations = pd.read_csv('data/Greenup/kanawha_river_sites2.csv')"
   ]
  },
  {
   "cell_type": "code",
   "execution_count": 54,
   "metadata": {
    "extensions": {
     "jupyter_dashboards": {
      "version": 1,
      "views": {
       "grid_default": {},
       "report_default": {
        "hidden": true
       }
      }
     }
    }
   },
   "outputs": [],
   "source": [
    "# sediment_data = pd.read_csv('data/Greenup/GreenupSedimentData2011.csv',encoding='latin1')\n",
    "# sediment_data.rename(columns={'Location':'Name'},inplace=True)\n",
    "# sediment_data_with_lat_lon = pd.merge(sediment_data,locations,on='Name').fillna(0)\n",
    "# #sediment_data_with_lat_lon.columns"
   ]
  },
  {
   "cell_type": "markdown",
   "metadata": {
    "extensions": {
     "jupyter_dashboards": {
      "version": 1,
      "views": {
       "grid_default": {},
       "report_default": {
        "hidden": false
       }
      }
     }
    }
   },
   "source": [
    "#### Plot Sediment Composition vs River Mile  (N/A for Kanawha River, WV)  "
   ]
  },
  {
   "cell_type": "code",
   "execution_count": 55,
   "metadata": {
    "extensions": {
     "jupyter_dashboards": {
      "version": 1,
      "views": {
       "grid_default": {
        "col": 0,
        "height": 13,
        "hidden": false,
        "row": 30,
        "width": 4
       },
       "report_default": {
        "hidden": false
       }
      }
     }
    }
   },
   "outputs": [],
   "source": [
    "# def rmi_plot(Property):\n",
    "#     sediment_data.plot(x='RMI',y=Property)\n",
    "    \n",
    "# interact(rmi_plot, \\\n",
    "#          Property=sediment_data.columns[8::2] \\\n",
    "#         )"
   ]
  },
  {
   "cell_type": "markdown",
   "metadata": {},
   "source": [
    "#### Generate a Heat Map using Folium plugin  (N/A for Kanawha River, WV) "
   ]
  },
  {
   "cell_type": "markdown",
   "metadata": {
    "extensions": {
     "jupyter_dashboards": {
      "version": 1,
      "views": {
       "grid_default": {
        "col": 0,
        "height": 13,
        "hidden": false,
        "row": 30,
        "width": 4
       },
       "report_default": {
        "hidden": false
       }
      }
     }
    }
   },
   "source": [
    "from IPython.display import IFrame\n",
    "m = folium.Map([38.6,-82.5],zoom_start=10,tiles=None)\n",
    "folium.TileLayer('OpenStreetMap').add_to(m)\n",
    "for prop in sediment_data.columns[9::2]:\n",
    "    sediment_data_with_lat_lon['Heat Value'] = sediment_data_with_lat_lon[prop].apply(lambda x: (x+3.0)/6.0)\n",
    "    m_data = sediment_data_with_lat_lon[['Latitude','Longitude','Heat Value']].values.tolist()\n",
    "    plugins.HeatMap(m_data,name=prop,radius=10,gradient={0.4:'lime', 0.5:'blue', 0.6:'red'},blur=5,show=False).add_to(m)\n",
    "folium.LayerControl().add_to(m)\n",
    "m.save('heatmap.html')\n",
    "#sediment_data_with_lat_lon[['Latitude','Longitude','Heat Value']].values.tolist()\n",
    "IFrame('heatmap.html',width=600,height=500)"
   ]
  },
  {
   "cell_type": "markdown",
   "metadata": {},
   "source": [
    "## == USGS Gage at Charleston =="
   ]
  },
  {
   "cell_type": "markdown",
   "metadata": {
    "extensions": {
     "jupyter_dashboards": {
      "version": 1,
      "views": {
       "grid_default": {
        "hidden": true
       },
       "report_default": {
        "hidden": true
       }
      }
     }
    }
   },
   "source": [
    "### Get USGS Gage data directly from USGS (WaterData) web services \n",
    " * Gage #03198000 in Charleston WV\n",
    " * TODO\n",
    "   * Resolve issue with columns being mismatched\n",
    "   * Move merge (from below) to after reading Locks data and replace discharge values "
   ]
  },
  {
   "cell_type": "code",
   "execution_count": 56,
   "metadata": {},
   "outputs": [],
   "source": [
    "usgs_gage = pd.read_csv(\"https://nwis.waterdata.usgs.gov/usa/nwis/uv/\"+ \\\n",
    "                        \"?site_no=03198000\"+ \\\n",
    "                        \"&period=&begin_date=2018-01-12&end_date=2018-03-31\"+ \\\n",
    "                        \"&cb_00010=on&cb_00011=on&cb_00060=on&cb_00065=on&cb_00095=on&cb_00300=on&cb_00400=on&cb_63680=on&cb_72254=on&cb_72255=on&cb_99133=on\"+ \\\n",
    "                        \"&format=rdb\", \\\n",
    "                       sep='\\t',comment='#',header=[0,1])"
   ]
  },
  {
   "cell_type": "code",
   "execution_count": 57,
   "metadata": {},
   "outputs": [],
   "source": [
    "usgs_gage = usgs_gage.reset_index()\n",
    "usgs_gage.columns = ['Index', 'Agency', 'Site', 'DateTime', 'TZ', \\\n",
    "                     'Discharge', 'q1', 'Gage height', 'q2']\n",
    "#usgs_gage.columns, usgs_gage.head()"
   ]
  },
  {
   "cell_type": "code",
   "execution_count": 58,
   "metadata": {},
   "outputs": [],
   "source": [
    "usgs_gage = usgs_gage.drop(usgs_gage.columns[6:28:2],axis=1)\n",
    "usgs_gage = usgs_gage.drop(['Index','Agency','Site','TZ'],axis=1)\n",
    "#usgs_gage.head()"
   ]
  },
  {
   "cell_type": "code",
   "execution_count": 59,
   "metadata": {
    "extensions": {
     "jupyter_dashboards": {
      "version": 1,
      "views": {
       "grid_default": {
        "hidden": true
       },
       "report_default": {
        "hidden": true
       }
      }
     }
    }
   },
   "outputs": [],
   "source": [
    "def datetime_usgs(row):\n",
    "    pattern = '%Y-%m-%d %H:%M'\n",
    "    dt = row['DateTime']\n",
    "    return pd.to_datetime(time.mktime(time.strptime(dt,pattern)),unit='s')\n",
    "    \n",
    "usgs_gage['DateTime'] = usgs_gage.apply(lambda row: datetime_usgs(row),axis=1)\n",
    "usgs_gage = usgs_gage.set_index(['DateTime'])"
   ]
  },
  {
   "cell_type": "markdown",
   "metadata": {},
   "source": [
    "<div id='ironton_usgs_plots'></div>"
   ]
  },
  {
   "cell_type": "markdown",
   "metadata": {},
   "source": [
    "## Charleston Gage Plots\n",
    " * TODO:\n",
    "   * Only Discharge and Gage Height data available!"
   ]
  },
  {
   "cell_type": "code",
   "execution_count": 60,
   "metadata": {
    "extensions": {
     "jupyter_dashboards": {
      "version": 1,
      "views": {
       "grid_default": {
        "hidden": true
       },
       "report_default": {
        "hidden": true
       }
      }
     }
    }
   },
   "outputs": [],
   "source": [
    "# def dist_plot_ts_usgs(Property,Kind='kde'):\n",
    "#     usgs_gage[Property].plot(kind=Kind,color='blue')\n",
    "        \n",
    "# interact(dist_plot_ts_usgs, \\\n",
    "#          Property=usgs_gage.columns.drop(['NO3+NO2']), \\\n",
    "#          Kind=['hist','kde','box'] \\\n",
    "#         )"
   ]
  },
  {
   "cell_type": "code",
   "execution_count": 61,
   "metadata": {
    "extensions": {
     "jupyter_dashboards": {
      "version": 1,
      "views": {
       "grid_default": {
        "hidden": true
       },
       "report_default": {
        "hidden": true
       }
      }
     }
    }
   },
   "outputs": [
    {
     "data": {
      "application/vnd.jupyter.widget-view+json": {
       "model_id": "4e477dff519f46d48b6bec17e5c885a8",
       "version_major": 2,
       "version_minor": 0
      },
      "text/plain": [
       "interactive(children=(Text(value='Discharge', description='YProperty'), Text(value='Gage height', description=…"
      ]
     },
     "metadata": {},
     "output_type": "display_data"
    },
    {
     "data": {
      "text/plain": [
       "<function __main__.scatter_plot_timeseries_usgs(YProperty='Discharge', XProperty='Gage height', CProperty='Gage height', ColorMap='jet')>"
      ]
     },
     "execution_count": 61,
     "metadata": {},
     "output_type": "execute_result"
    }
   ],
   "source": [
    "def scatter_plot_timeseries_usgs(YProperty=usgs_gage.columns[0],XProperty=usgs_gage.columns[1],CProperty=usgs_gage.columns[1],ColorMap='jet'):\n",
    "    fig, ax = plt.subplots()\n",
    "    usgs_gage.plot.scatter(ax=ax,x=XProperty,y=YProperty,c=CProperty,cmap=ColorMap,s=1)\n",
    "    ax.set_title(\"Correlation of \"+YProperty+\" and \"+XProperty,fontsize=14)\n",
    "    \n",
    "interact(scatter_plot_timeseries_usgs, \\\n",
    "         ColorMap=['jet','viridis','magma','coolwarm','seismic','Greys','Reds','Blues'] \\\n",
    "        )"
   ]
  },
  {
   "cell_type": "code",
   "execution_count": 62,
   "metadata": {
    "extensions": {
     "jupyter_dashboards": {
      "version": 1,
      "views": {
       "grid_default": {
        "col": 8,
        "height": 27,
        "hidden": false,
        "row": 84,
        "width": 4
       },
       "report_default": {
        "hidden": false
       }
      }
     }
    }
   },
   "outputs": [
    {
     "data": {
      "application/vnd.jupyter.widget-view+json": {
       "model_id": "6535e787e33144c98f39c094912fb540",
       "version_major": 2,
       "version_minor": 0
      },
      "text/plain": [
       "SelectionRangeSlider(description='Dates', index=(0, 78), layout=Layout(width='500px'), options=((' Jan 2018 ',…"
      ]
     },
     "metadata": {},
     "output_type": "display_data"
    }
   ],
   "source": [
    "from datetime import datetime\n",
    "start_date = datetime(2018, 1, 12)\n",
    "end_date = datetime(2018,3,31)\n",
    "dates = pd.date_range(start_date, end_date, freq='D')\n",
    "date_options = [(date.strftime(' %b %Y '), date) for date in dates]\n",
    "date_index = (0, len(date_options)-1)\n",
    "\n",
    "date_range_slider = widgets.SelectionRangeSlider(\n",
    "    options=date_options,\n",
    "    index=date_index,\n",
    "    description = \"Dates\",\n",
    "    orientation = 'horizontal',\n",
    "    layout = {'width': '500px'}\n",
    ")\n",
    "date_range_slider"
   ]
  },
  {
   "cell_type": "code",
   "execution_count": 63,
   "metadata": {
    "extensions": {
     "jupyter_dashboards": {
      "version": 1,
      "views": {
       "grid_default": {
        "hidden": true
       },
       "report_default": {
        "hidden": true
       }
      }
     }
    },
    "scrolled": false
   },
   "outputs": [],
   "source": [
    "# def plot_ts_usgs(date_range=(start_date,end_date)):\n",
    "#     fig, axes = plt.subplots(nrows=len(usgs_gage.columns)-1,ncols=1,figsize=(20,30),sharex=False)\n",
    "#     i = 0\n",
    "#     for property in usgs_gage.columns:\n",
    "#         usgs_gage[property].plot(ax=axes[i],drawstyle='steps-post',legend=True,color='blue')\n",
    "#         axes[i].legend([property],loc='upper left')\n",
    "#         axes[i].set_xlim(date_range)\n",
    "#         i = i+1\n",
    "\n",
    "# interact_manual(plot_ts_usgs,date_range=date_range_slider)"
   ]
  },
  {
   "cell_type": "markdown",
   "metadata": {},
   "source": [
    "## == Chesapeake, Charleston and Pocatalico (just after that tributary joins Kanawha River WV, see location at the html map) ==\n",
    "## == Water Quality Data source available in: https://doi.org/10.6084/m9.figshare.9786212"
   ]
  },
  {
   "cell_type": "markdown",
   "metadata": {
    "extensions": {
     "jupyter_dashboards": {
      "version": 1,
      "views": {
       "grid_default": {
        "col": 4,
        "height": 4,
        "hidden": false,
        "row": 72,
        "width": 4
       },
       "report_default": {
        "hidden": false
       }
      }
     }
    }
   },
   "source": [
    "### Wate Quality Time Series Data "
   ]
  },
  {
   "cell_type": "markdown",
   "metadata": {
    "extensions": {
     "jupyter_dashboards": {
      "version": 1,
      "views": {
       "grid_default": {
        "col": 4,
        "height": 4,
        "hidden": false,
        "row": 72,
        "width": 4
       },
       "report_default": {
        "hidden": false
       }
      }
     }
    }
   },
   "source": [
    "#### Get Sonde data\n",
    " * Now includes USGS discharge data "
   ]
  },
  {
   "cell_type": "code",
   "execution_count": 64,
   "metadata": {
    "extensions": {
     "jupyter_dashboards": {
      "version": 1,
      "views": {
       "grid_default": {
        "hidden": true
       },
       "report_default": {
        "hidden": true
       }
      }
     }
    }
   },
   "outputs": [],
   "source": [
    "locks_all = pd.read_csv('Kanawha/Locks_Sonde_dataGD2c2.csv',encoding='latin1')"
   ]
  },
  {
   "cell_type": "markdown",
   "metadata": {},
   "source": [
    "#### Get PAR data (No needed for Kanawha River, WV)"
   ]
  },
  {
   "cell_type": "code",
   "execution_count": 65,
   "metadata": {
    "extensions": {
     "jupyter_dashboards": {
      "version": 1,
      "views": {
       "grid_default": {
        "hidden": true
       },
       "report_default": {
        "hidden": true
       }
      }
     }
    }
   },
   "outputs": [],
   "source": [
    "#locks_par = pd.read_csv('data/Greenup/Locks_PAR_data.csv',encoding='latin1')"
   ]
  },
  {
   "cell_type": "markdown",
   "metadata": {},
   "source": [
    "#### Create Date-Time field as index"
   ]
  },
  {
   "cell_type": "code",
   "execution_count": 66,
   "metadata": {
    "extensions": {
     "jupyter_dashboards": {
      "version": 1,
      "views": {
       "grid_default": {
        "hidden": true
       },
       "report_default": {
        "hidden": true
       }
      }
     }
    },
    "scrolled": false
   },
   "outputs": [],
   "source": [
    "def datetime_sonde(row):\n",
    "    pattern = '%m/%d/%y-%H:%M:%S'\n",
    "    dt = row['Date (MM/DD/YYYY)']+'-'+row['Time (HH:MM:SS)']\n",
    "    return pd.to_datetime(time.mktime(time.strptime(dt,pattern)),unit='s')\n",
    "    \n",
    "locks_all['Date-Time'] = locks_all.apply(lambda row: datetime_sonde(row),axis=1)\n",
    "locks_all = locks_all.set_index(['Date-Time'])"
   ]
  },
  {
   "cell_type": "code",
   "execution_count": 67,
   "metadata": {
    "extensions": {
     "jupyter_dashboards": {
      "version": 1,
      "views": {
       "grid_default": {
        "hidden": true
       },
       "report_default": {
        "hidden": true
       }
      }
     }
    }
   },
   "outputs": [],
   "source": [
    "# def datetime_par(row):\n",
    "#     pattern = '%m/%d/%y-%H:%M:%S %p'\n",
    "#     dt = row['Date']+'-'+row['Time']\n",
    "#     return pd.to_datetime(time.mktime(time.strptime(dt,pattern)),unit='s')\n",
    "    \n",
    "# locks_par['Date-Time'] = locks_par.apply(lambda row: datetime_par(row),axis=1)\n",
    "# locks_par = locks_par.set_index(['Date-Time'])"
   ]
  },
  {
   "cell_type": "markdown",
   "metadata": {
    "extensions": {
     "jupyter_dashboards": {
      "version": 1,
      "views": {
       "grid_default": {},
       "report_default": {
        "hidden": false
       }
      }
     }
    }
   },
   "source": [
    "#### Filter out Sonde data with zero values for conductivity-related measures (use salinity as indicator)  (N/A for Kanawha River, WV) "
   ]
  },
  {
   "cell_type": "code",
   "execution_count": 68,
   "metadata": {
    "extensions": {
     "jupyter_dashboards": {
      "version": 1,
      "views": {
       "grid_default": {},
       "report_default": {
        "hidden": true
       }
      }
     }
    }
   },
   "outputs": [],
   "source": [
    "# locks_all = locks_all[locks_all['Sal psu'] != 0]"
   ]
  },
  {
   "cell_type": "code",
   "execution_count": 69,
   "metadata": {},
   "outputs": [],
   "source": [
    "# locks_all['Chlorophyll µg/L'] = locks_all['Chlorophyll µg/L'].apply(lambda x: 0.0 if x < 0.0 else x)\n",
    "# locks_all['BGA-PC µg/L'] = locks_all['BGA-PC µg/L'].apply(lambda x: 0.1 if x < 0.1 else x)"
   ]
  },
  {
   "cell_type": "code",
   "execution_count": 70,
   "metadata": {},
   "outputs": [],
   "source": [
    "# locks_all['Chlorophyll/BGA'] = locks_all.apply(lambda x: x['Chlorophyll µg/L']/x['BGA-PC µg/L'], axis=1)"
   ]
  },
  {
   "cell_type": "markdown",
   "metadata": {
    "extensions": {
     "jupyter_dashboards": {
      "version": 1,
      "views": {
       "grid_default": {},
       "report_default": {
        "hidden": false
       }
      }
     }
    }
   },
   "source": [
    "#### Drop non-data columns, TSS (all NaN), and redunctant columns (chlorophyll, BGA, conductivity, salinity, pH, depth) from Sonde data  (N/A for Kanawha River, WV) \n",
    " * TODO: Try using Zip of desired columns instead of dropping everything else"
   ]
  },
  {
   "cell_type": "code",
   "execution_count": 71,
   "metadata": {
    "extensions": {
     "jupyter_dashboards": {
      "version": 1,
      "views": {
       "grid_default": {
        "hidden": true
       },
       "report_default": {
        "hidden": true
       }
      }
     }
    }
   },
   "outputs": [],
   "source": [
    "locks_all_dataonly = locks_all.drop(locks_all.columns[:3],axis=1) \\\n",
    "     .drop(locks_all.columns[[10]],axis=1) #\\\n",
    "#     .drop(locks_all.columns[[12,14,16]],axis=1) \\\n",
    "#     .drop(locks_all.columns[[17,18,20]],axis=1) \\\n",
    "#     .drop(locks_all.columns[[22,23, 25]],axis=1)"
   ]
  },
  {
   "cell_type": "code",
   "execution_count": 72,
   "metadata": {
    "extensions": {
     "jupyter_dashboards": {
      "version": 1,
      "views": {
       "grid_default": {
        "hidden": true
       },
       "report_default": {
        "hidden": true
       }
      }
     }
    }
   },
   "outputs": [],
   "source": [
    "chesa_only = locks_all[locks_all['Site Name'].str.contains('Chesapeake')==True]\n",
    "charl_only = locks_all[locks_all['Site Name'].str.contains('Charleston')==True]\n",
    "pocat_only = locks_all[locks_all['Site Name'].str.contains('Pocatalico')==True]\n",
    "#rcb_dataonly = rcb_only.drop(rcb_only.columns[:7],axis=1).drop('Wiper Pos V',axis=1).drop('TSS mg/L',axis=1)\n",
    "#greenup_dataonly = greenup_only.drop(greenup_only.columns[:7],axis=1).drop('Wiper Pos V',axis=1).drop('TSS mg/L',axis=1)"
   ]
  },
  {
   "cell_type": "markdown",
   "metadata": {},
   "source": [
    "#### Filter out (truncate) very large PAR values (>2000) (N/A for Kanawha River, WV) "
   ]
  },
  {
   "cell_type": "code",
   "execution_count": 73,
   "metadata": {},
   "outputs": [],
   "source": [
    "# locks_par['PAR_rcb'] = locks_par['PAR_rcb'].apply(lambda x: np.NaN if x > 2000.0 else x)\n",
    "# locks_par['PAR_greenup'] = locks_par['PAR_greenup'].apply(lambda x: np.NaN if x > 2000.0 else x)"
   ]
  },
  {
   "cell_type": "markdown",
   "metadata": {},
   "source": [
    "<div id='locks_plots'></div>"
   ]
  },
  {
   "cell_type": "markdown",
   "metadata": {},
   "source": [
    "### Plots for Three Sondes: Chesapeake, Charleston, Pocatalico"
   ]
  },
  {
   "cell_type": "markdown",
   "metadata": {
    "extensions": {
     "jupyter_dashboards": {
      "version": 1,
      "views": {
       "grid_default": {},
       "report_default": {
        "hidden": false
       }
      }
     }
    }
   },
   "source": [
    "#### Distribution plots for Sonde data"
   ]
  },
  {
   "cell_type": "code",
   "execution_count": 74,
   "metadata": {
    "extensions": {
     "jupyter_dashboards": {
      "version": 1,
      "views": {
       "grid_default": {
        "col": 0,
        "height": 14,
        "hidden": false,
        "row": 84,
        "width": 4
       },
       "report_default": {
        "hidden": false
       }
      }
     }
    }
   },
   "outputs": [
    {
     "data": {
      "application/vnd.jupyter.widget-view+json": {
       "model_id": "322ef080fb914bfa944d8423bb7d9b8e",
       "version_major": 2,
       "version_minor": 0
      },
      "text/plain": [
       "interactive(children=(Dropdown(description='Property', options=('ODO % sat', 'ODO mg/L', 'Temp °C', 'SpCond µS…"
      ]
     },
     "metadata": {},
     "output_type": "display_data"
    },
    {
     "data": {
      "text/plain": [
       "<function __main__.dist_plot_ts(Property, Site='Chesapeake', Kind='kde')>"
      ]
     },
     "execution_count": 74,
     "metadata": {},
     "output_type": "execute_result"
    }
   ],
   "source": [
    "def dist_plot_ts(Property,Site='Chesapeake',Kind='kde'):\n",
    "    if (Site=='Chesapeake'):\n",
    "        chesa_only[Property].plot(kind=Kind,color='blue')\n",
    "    if (Site=='Charleston'):\n",
    "        charl_only[Property].plot(kind=Kind,color='green')\n",
    "    if (Site=='Pocatalico'):\n",
    "        pocat_only[Property].plot(kind=Kind,color='green')\n",
    "        \n",
    "interact(dist_plot_ts, \\\n",
    "         Property=locks_all_dataonly.columns, \\\n",
    "         Site=['Chesapeake','Charleston','Pocatalico'], \\\n",
    "         Kind=['hist','kde','box'] \\\n",
    "        )"
   ]
  },
  {
   "cell_type": "markdown",
   "metadata": {},
   "source": [
    "#### Distribution plots for PAR data (N/A for Kanawha River, WV) "
   ]
  },
  {
   "cell_type": "code",
   "execution_count": 75,
   "metadata": {
    "extensions": {
     "jupyter_dashboards": {
      "version": 1,
      "views": {
       "grid_default": {
        "col": 0,
        "height": 14,
        "hidden": false,
        "row": 84,
        "width": 4
       },
       "report_default": {
        "hidden": false
       }
      }
     }
    }
   },
   "outputs": [],
   "source": [
    "# def dist_plot_par(Site='rcb',Kind='kde'):\n",
    "#     if ((Site=='RCB') | (Site=='Both')):\n",
    "#         locks_par[\"PAR_rcb\"].plot(kind=Kind,color='blue')\n",
    "#     if ((Site=='Greenup') | (Site=='Both')):\n",
    "#         locks_par[\"PAR_greenup\"].plot(kind=Kind,color='green')\n",
    "        \n",
    "# interact(dist_plot_par, \\\n",
    "#          Site=['RCB','Greenup','Both'], \\\n",
    "#          Kind=['hist','kde','box'] \\\n",
    "#         )"
   ]
  },
  {
   "cell_type": "markdown",
   "metadata": {
    "extensions": {
     "jupyter_dashboards": {
      "version": 1,
      "views": {
       "grid_default": {},
       "report_default": {
        "hidden": false
       }
      }
     }
    }
   },
   "source": [
    "#### Scatter (correlation) plots for all Sonde data"
   ]
  },
  {
   "cell_type": "code",
   "execution_count": 76,
   "metadata": {
    "extensions": {
     "jupyter_dashboards": {
      "version": 1,
      "views": {
       "grid_default": {
        "col": 4,
        "height": 14,
        "hidden": false,
        "row": 84,
        "width": 4
       },
       "report_default": {
        "hidden": false
       }
      }
     }
    }
   },
   "outputs": [
    {
     "data": {
      "application/vnd.jupyter.widget-view+json": {
       "model_id": "29663461655f44a485123605cfb03012",
       "version_major": 2,
       "version_minor": 0
      },
      "text/plain": [
       "interactive(children=(Dropdown(description='YProperty', options=('ODO % sat', 'ODO mg/L', 'Temp °C', 'SpCond µ…"
      ]
     },
     "metadata": {},
     "output_type": "display_data"
    },
    {
     "data": {
      "text/plain": [
       "<function __main__.scatter_plot_timeseries(YProperty='ODO % sat', XProperty='ODO mg/L', CProperty='SpCond µS/cm', ColorMap='jet')>"
      ]
     },
     "execution_count": 76,
     "metadata": {},
     "output_type": "execute_result"
    }
   ],
   "source": [
    "def scatter_plot_timeseries(YProperty=locks_all_dataonly.columns[0],XProperty=locks_all_dataonly.columns[1],CProperty=locks_all_dataonly.columns[3],ColorMap='jet'):\n",
    "    fig, ax = plt.subplots()\n",
    "    locks_all_dataonly.plot.scatter(ax=ax,x=XProperty,y=YProperty,c=CProperty,cmap=ColorMap,s=1)\n",
    "    ax.set_title(\"Correlation of \"+YProperty+\" and \"+XProperty,fontsize=14)\n",
    "    \n",
    "interact(scatter_plot_timeseries, \\\n",
    "         YProperty=locks_all_dataonly.columns, \\\n",
    "         XProperty=locks_all_dataonly.columns, \\\n",
    "         CProperty=locks_all_dataonly.columns, \\\n",
    "         ColorMap=['jet','viridis','magma','coolwarm','seismic','Greys','Reds','Blues'] \\\n",
    "        )"
   ]
  },
  {
   "cell_type": "markdown",
   "metadata": {
    "extensions": {
     "jupyter_dashboards": {
      "version": 1,
      "views": {
       "grid_default": {},
       "report_default": {
        "hidden": false
       }
      }
     }
    }
   },
   "source": [
    "#### Scatter (correlation) plots for PAR data between locks  (N/A for Kanawha River, WV) "
   ]
  },
  {
   "cell_type": "code",
   "execution_count": 77,
   "metadata": {},
   "outputs": [],
   "source": [
    "# fig, ax = plt.subplots()\n",
    "# locks_par.plot.scatter(ax=ax,x='PAR_rcb',y='PAR_greenup')\n",
    "# ax.set_title(\"Correlation of PAR data between locks\",fontsize=14)"
   ]
  },
  {
   "cell_type": "markdown",
   "metadata": {
    "extensions": {
     "jupyter_dashboards": {
      "version": 1,
      "views": {
       "grid_default": {},
       "report_default": {
        "hidden": false
       }
      }
     }
    }
   },
   "source": [
    "#### Get Sonde deployment data  (N/A for Kanawha River, WV) "
   ]
  },
  {
   "cell_type": "code",
   "execution_count": 78,
   "metadata": {
    "extensions": {
     "jupyter_dashboards": {
      "version": 1,
      "views": {
       "grid_default": {
        "hidden": true
       },
       "report_default": {
        "hidden": true
       }
      }
     }
    }
   },
   "outputs": [],
   "source": [
    "# sonde_deployments = pd.read_csv('data/Greenup/sonde_deployment_data.csv',encoding='latin1')\n",
    "# sonde_deployments = sonde_deployments.drop(sonde_deployments.columns[9:],axis=1)\n",
    "# sonde_deployments = sonde_deployments.dropna(thresh=6)\n",
    "# #sonde_deployments.columns"
   ]
  },
  {
   "cell_type": "markdown",
   "metadata": {
    "extensions": {
     "jupyter_dashboards": {
      "version": 1,
      "views": {
       "grid_default": {},
       "report_default": {
        "hidden": false
       }
      }
     }
    }
   },
   "source": [
    "#### Index with Date-Time  (N/A for Kanawha River, WV) "
   ]
  },
  {
   "cell_type": "code",
   "execution_count": 79,
   "metadata": {
    "extensions": {
     "jupyter_dashboards": {
      "version": 1,
      "views": {
       "grid_default": {
        "hidden": true
       },
       "report_default": {
        "hidden": true
       }
      }
     }
    }
   },
   "outputs": [],
   "source": [
    "# def datetime_sonde2(row):\n",
    "#     pattern = '%m/%d/%y-%H:%M:%S'\n",
    "#     dt = row['Date ']+'-'+row['Time']\n",
    "#     return pd.to_datetime(time.mktime(time.strptime(dt,pattern)),unit='s')\n",
    "    \n",
    "# sonde_deployments['Date-Time'] = sonde_deployments.apply(lambda row: datetime_sonde2(row),axis=1)\n",
    "# sonde_deployments = sonde_deployments.set_index(['Date-Time'])\n",
    "# rcb_sonde_deployments = sonde_deployments[sonde_deployments['Location ']=='RCB']\n",
    "# greenup_sonde_deployments = sonde_deployments[sonde_deployments['Location ']=='Greenup']"
   ]
  },
  {
   "cell_type": "markdown",
   "metadata": {
    "extensions": {
     "jupyter_dashboards": {
      "version": 1,
      "views": {
       "grid_default": {},
       "report_default": {
        "hidden": false
       }
      }
     }
    }
   },
   "source": [
    "#### Disable scrolling for time series plots"
   ]
  },
  {
   "cell_type": "code",
   "execution_count": 80,
   "metadata": {
    "extensions": {
     "jupyter_dashboards": {
      "version": 1,
      "views": {
       "grid_default": {},
       "report_default": {
        "hidden": true
       }
      }
     }
    }
   },
   "outputs": [
    {
     "data": {
      "application/javascript": [
       "IPython.OutputArea.prototype._should_scroll = function(lines) {\n",
       "    return false;\n",
       "}\n"
      ],
      "text/plain": [
       "<IPython.core.display.Javascript object>"
      ]
     },
     "metadata": {},
     "output_type": "display_data"
    }
   ],
   "source": [
    "%%javascript\n",
    "IPython.OutputArea.prototype._should_scroll = function(lines) {\n",
    "    return false;\n",
    "}"
   ]
  },
  {
   "cell_type": "markdown",
   "metadata": {
    "extensions": {
     "jupyter_dashboards": {
      "version": 1,
      "views": {
       "grid_default": {},
       "report_default": {
        "hidden": false
       }
      }
     }
    }
   },
   "source": [
    "### Interactive timeseries plots for Sonde data"
   ]
  },
  {
   "cell_type": "code",
   "execution_count": 81,
   "metadata": {
    "extensions": {
     "jupyter_dashboards": {
      "version": 1,
      "views": {
       "grid_default": {
        "col": 8,
        "height": 27,
        "hidden": false,
        "row": 84,
        "width": 4
       },
       "report_default": {
        "hidden": false
       }
      }
     }
    },
    "scrolled": false
   },
   "outputs": [
    {
     "data": {
      "application/vnd.jupyter.widget-view+json": {
       "model_id": "8ff14ae8d8094929ba8b10ea6b13f098",
       "version_major": 2,
       "version_minor": 0
      },
      "text/plain": [
       "interactive(children=(Dropdown(description='Site', options=('Chesapeake', 'Charleston', 'Pocatalico'), value='…"
      ]
     },
     "metadata": {},
     "output_type": "display_data"
    },
    {
     "data": {
      "text/plain": [
       "<function __main__.plot_ts_all(Site='All', date_range=(datetime.datetime(2018, 1, 12, 0, 0), datetime.datetime(2018, 3, 31, 0, 0)))>"
      ]
     },
     "execution_count": 81,
     "metadata": {},
     "output_type": "execute_result"
    }
   ],
   "source": [
    "def plot_ts_all(Site='All',date_range=(start_date,end_date)):\n",
    "    fig, axes = plt.subplots(nrows=len(locks_all_dataonly.columns),ncols=1,figsize=(20,60),sharex=False)\n",
    "    i = 0\n",
    "    for property in locks_all_dataonly.columns:\n",
    "        if (Site=='Chesapeake'):\n",
    "            chesa_only[property].plot(ax=axes[i],drawstyle='steps-post',legend=True,color='blue')\n",
    "        if (Site=='Charleston'):\n",
    "            charl_only[property].plot(ax=axes[i],drawstyle='steps-post',legend=True,color='green')\n",
    "        if (Site=='Pocatalico') :\n",
    "            pocat_only[property].plot(ax=axes[i],drawstyle='steps-post',legend=True,color='red')\n",
    "#         if (Site=='Both'):\n",
    "#             axes[i].legend([property+' at Chesapeake',property+' at Charleston',property+' at transects'],loc='upper left')\n",
    "        else:\n",
    "            axes[i].legend([property+' at '+Site,property+' at transects'],loc='upper left')\n",
    "        axes[i].set_xlim(date_range)\n",
    "        i = i+1\n",
    "        \n",
    "# #     if ((Site=='RCB') | (Site=='Both')):\n",
    "# #         rcb_sonde_deployments['Sonde in Place Now'].plot(ax=axes[i],drawstyle='steps',color='blue')\n",
    "# #     if ((Site=='Greenup') | (Site=='Both')):\n",
    "# #         greenup_sonde_deployments['Sonde in Place Now'].plot(ax=axes[i],drawstyle='steps',color='green')\n",
    "#     if (Site=='All'):\n",
    "#         axes[i].legend(['Sonde in place at Chesapeake','Sonde in place at Chesapeake'],loc='upper left')\n",
    "#     else:\n",
    "#         axes[i].legend(['Sonde in Place at '+Site],loc='upper left')\n",
    "#         axes[i].set_xlim(date_range)\n",
    "#         axes[i].set_ylim(0,5.0)\n",
    "    \n",
    "interact_manual(plot_ts_all,Site=['Chesapeake','Charleston','Pocatalico'],date_range=date_range_slider)"
   ]
  },
  {
   "cell_type": "markdown",
   "metadata": {
    "extensions": {
     "jupyter_dashboards": {
      "version": 1,
      "views": {
       "grid_default": {},
       "report_default": {
        "hidden": false
       }
      }
     }
    }
   },
   "source": [
    "### Timeseries plots for PAR data, including transects  (N/A for Kanawha River, WV) "
   ]
  },
  {
   "cell_type": "code",
   "execution_count": 82,
   "metadata": {
    "extensions": {
     "jupyter_dashboards": {
      "version": 1,
      "views": {
       "grid_default": {
        "col": 8,
        "height": 27,
        "hidden": false,
        "row": 84,
        "width": 4
       },
       "report_default": {
        "hidden": false
       }
      }
     }
    },
    "scrolled": false
   },
   "outputs": [],
   "source": [
    "# def plot_ts_par(Site='Both',date_range=(start_date,end_date)):\n",
    "#     fig, ax = plt.subplots(figsize=(20,5))\n",
    "#     if ((Site=='RCB') | (Site=='Both')):\n",
    "#         locks_par['PAR_rcb'].plot(ax=ax,marker='o',linestyle='',ms=1,legend=True,color='blue')\n",
    "#     if ((Site=='Greenup') | (Site=='Both')):\n",
    "#         locks_par['PAR_greenup'].plot(ax=ax,marker='o',linestyle='',ms=1,legend=True,color='green')\n",
    "#     transects_sonde_par['PAR'].plot(ax=ax,color='red',marker='o',linestyle='',ms=2)\n",
    "#     if (Site=='Both'):\n",
    "#         ax.legend(['PAR at RCB','PAR at Greenup','PAR at transects'],loc='upper left')\n",
    "#     else:\n",
    "#         ax.legend(['PAR at '+Site,'PAR at transects'],loc='upper left')\n",
    "#     ax.set_xlim(date_range)\n",
    "    \n",
    "# interact(plot_ts_par,Site=['RCB','Greenup','Both'],date_range=date_range_slider)"
   ]
  },
  {
   "cell_type": "markdown",
   "metadata": {
    "extensions": {
     "jupyter_dashboards": {
      "version": 1,
      "views": {
       "grid_default": {},
       "report_default": {
        "hidden": false
       }
      }
     }
    }
   },
   "source": [
    "## == Water Quality Data source available in: https://doi.org/10.6084/m9.figshare.9786212\n",
    "### Resample timeseries data"
   ]
  },
  {
   "cell_type": "code",
   "execution_count": 83,
   "metadata": {
    "extensions": {
     "jupyter_dashboards": {
      "version": 1,
      "views": {
       "grid_default": {},
       "report_default": {
        "hidden": true
       }
      }
     }
    }
   },
   "outputs": [],
   "source": [
    "chesa_resampled_means = chesa_only.resample('6H').mean()\n",
    "charl_resampled_means = charl_only.resample('6H').mean()\n",
    "pocat_resampled_means = pocat_only.resample('6H').mean()\n",
    "# locks_par_means = locks_par.resample('6H').mean()\n",
    "usgs_gage_means = usgs_gage.resample('6H').mean()\n",
    "# transects_resampled = transects_sonde_par.resample('6H')\n",
    "# transects_resampled_means = transects_resampled.mean()\n",
    "# transects_resampled_max = transects_resampled.max()\n",
    "# transects_resampled_min = transects_resampled.min()"
   ]
  },
  {
   "cell_type": "markdown",
   "metadata": {},
   "source": [
    "### TODO: \n",
    "\n",
    " * Create time-series plot similar the ones below, but provide interactive menus for\n",
    "   * Property to plot\n",
    "   * Chesapeake, Charleston & Pocatalico\n",
    "   * Options to include (if available):\n",
    "     * Transects\n",
    "     * Sondes"
   ]
  },
  {
   "cell_type": "code",
   "execution_count": 84,
   "metadata": {
    "extensions": {
     "jupyter_dashboards": {
      "version": 1,
      "views": {
       "grid_default": {
        "hidden": true
       },
       "report_default": {
        "hidden": true
       }
      }
     }
    },
    "scrolled": false
   },
   "outputs": [
    {
     "data": {
      "application/vnd.jupyter.widget-view+json": {
       "model_id": "b080433005b541c9b962f4c862e9f875",
       "version_major": 2,
       "version_minor": 0
      },
      "text/plain": [
       "interactive(children=(Dropdown(description='Site', options=('Chesapeake', 'Charleston', 'Pocatalico'), value='…"
      ]
     },
     "metadata": {},
     "output_type": "display_data"
    },
    {
     "data": {
      "text/plain": [
       "<function __main__.plot_ts_all(Site='All', date_range=(datetime.datetime(2018, 1, 12, 0, 0), datetime.datetime(2018, 3, 31, 0, 0)))>"
      ]
     },
     "execution_count": 84,
     "metadata": {},
     "output_type": "execute_result"
    }
   ],
   "source": [
    "def plot_ts_all(Site='All',date_range=(start_date,end_date)):\n",
    "    fig, axes = plt.subplots(nrows=len(locks_all_dataonly.columns)+1,ncols=1,figsize=(20,60),sharex=False)\n",
    "    i = 0\n",
    "    for property in locks_all_dataonly.columns:\n",
    "        if (Site=='Chesapeake'):\n",
    "            chesa_resampled_means[property].plot(ax=axes[i],drawstyle='steps-post',legend=True,color='blue')\n",
    "        if (Site=='Charleston'):\n",
    "            charl_resampled_means[property].plot(ax=axes[i],drawstyle='steps-post',legend=True,color='green')\n",
    "        if (Site=='Pocatalico'):\n",
    "            pocat_resampled_means[property].plot(ax=axes[i],drawstyle='steps-post',legend=True,color='red')\n",
    "#         if (property!='Depth m'):\n",
    "#             transects_resampled_means[property].plot(ax=axes[i],color='red',marker='o',linestyle='',ms=4)\n",
    "#             transects_resampled_max[property].plot(ax=axes[i],color='red',marker='+',linestyle='',ms=4)\n",
    "#             transects_resampled_min[property].plot(ax=axes[i],color='red',marker='+',linestyle='',ms=4)\n",
    "#             for k, row in transects_resampled_means.iterrows():\n",
    "#                 if (math.isfinite(row[property])):\n",
    "#                     axes[i].text(k, row[property], str(int(row['T Pos'])), fontsize=12)\n",
    "#         elif (Site=='Both'):\n",
    "#             axes[i].legend([property+' at RCB',property+' at Greenup',property+' at transects'],loc='upper left')\n",
    "        else:\n",
    "            axes[i].legend([property+' at '+Site,property+' at transects'],loc='upper left')\n",
    "        axes[i].set_xlim(date_range)\n",
    "        i = i+1\n",
    "        \n",
    "    usgs_gage_means['Discharge'].plot(ax=axes[i],drawstyle='steps-post',legend=True,color='orange')   \n",
    "    axes[i].legend(['Discharge CFS at Charleston'],loc='upper left')            \n",
    "    i = i+1\n",
    "       \n",
    "#     if ((Site=='RCB') | (Site=='Both')):\n",
    "#         locks_par_means['PAR_rcb'].plot(ax=axes[i],marker='o',linestyle='',ms=2,legend=True,color='blue')\n",
    "#     if ((Site=='Greenup') | (Site=='Both')):\n",
    "#         locks_par_means['PAR_greenup'].plot(ax=axes[i],marker='o',linestyle='',ms=2,legend=True,color='green')  \n",
    "#     transects_resampled_means['PAR'].plot(ax=axes[i],color='red',marker='o',linestyle='',ms=4)\n",
    "#     transects_resampled_max['PAR'].plot(ax=axes[i],color='red',marker='+',linestyle='',ms=4)\n",
    "#     transects_resampled_min['PAR'].plot(ax=axes[i],color='red',marker='+',linestyle='',ms=4)\n",
    "#     for k, row in transects_resampled_means.iterrows():\n",
    "#         if (math.isfinite(row['PAR'])):\n",
    "#             axes[i].text(k, row['PAR'], str(int(row['T Pos'])), fontsize=12)\n",
    "\n",
    "#     if (Site=='Both'):\n",
    "#         axes[i].legend(['PAR at RCB','PAR at Greenup','PAR at transects'],loc='upper left')\n",
    "#     else:\n",
    "#         axes[i].legend(['PAR at '+Site,'PAR at transects'],loc='upper left')\n",
    "#     axes[i].set_xlim(date_range)\n",
    "#     i = i+1locks_resampled_means\n",
    "        \n",
    "#     if ((Site=='RCB') | (Site=='Both')):\n",
    "#         rcb_sonde_deployments['Sonde in Place Now'].plot(ax=axes[i],drawstyle='steps',color='blue')\n",
    "#     if ((Site=='Greenup') | (Site=='Both')):\n",
    "#         greenup_sonde_deployments['Sonde in Place Now'].plot(ax=axes[i],drawstyle='steps',color='green')\n",
    "#     if (Site=='Both'):\n",
    "#         axes[i].legend(['Sonde in place at RCB','Sonde in place at Greenup'],loc='upper left')\n",
    "#     else:\n",
    "#         axes[i].legend(['Sonde in Place at '+Site],loc='upper left')\n",
    "#     axes[i].set_xlim(date_range)\n",
    "#     axes[i].set_ylim(0,5.0)\n",
    "    \n",
    "interact_manual(plot_ts_all,Site=['Chesapeake','Charleston','Pocatalico'],date_range=date_range_slider)"
   ]
  },
  {
   "cell_type": "markdown",
   "metadata": {},
   "source": [
    "## == Water Quality Data source available in: https://doi.org/10.6084/m9.figshare.9786212\n",
    "## Merge Chesapeake and Charleston daily means"
   ]
  },
  {
   "cell_type": "code",
   "execution_count": 85,
   "metadata": {
    "extensions": {
     "jupyter_dashboards": {
      "version": 1,
      "views": {
       "grid_default": {},
       "report_default": {
        "hidden": true
       }
      }
     }
    }
   },
   "outputs": [],
   "source": [
    "merge_chesa_charl = pd.merge(chesa_resampled_means, charl_resampled_means,  how='outer', left_index=True, right_index=True, suffixes=('_chesa','_charl'))\n",
    "merge_chesa_charl.to_csv(\"Kanawha/sonde_resampled_means.csv\")\n",
    "merge_chesa_pocat = pd.merge(chesa_resampled_means, pocat_resampled_means, how='outer', left_index=True, right_index=True, suffixes=('_chesa','_pocat'))\n",
    "merge_chesa_pocat.to_csv(\"Kanawha/locks_resampled_means1.csv\")\n",
    "merge_charl_pocat = pd.merge(charl_resampled_means, pocat_resampled_means, how='outer', left_index=True, right_index=True, suffixes=('_charl','_pocat'))\n",
    "merge_charl_pocat.to_csv(\"Kanawha/locks_resampled_means2.csv\")"
   ]
  },
  {
   "cell_type": "markdown",
   "metadata": {
    "extensions": {
     "jupyter_dashboards": {
      "version": 1,
      "views": {
       "grid_default": {},
       "report_default": {
        "hidden": false
       }
      }
     }
    }
   },
   "source": [
    "### Cross correlation between Chesapeake and Charleston"
   ]
  },
  {
   "cell_type": "code",
   "execution_count": 86,
   "metadata": {
    "extensions": {
     "jupyter_dashboards": {
      "version": 1,
      "views": {
       "grid_default": {
        "hidden": true
       },
       "report_default": {
        "hidden": true
       }
      }
     }
    },
    "scrolled": true
   },
   "outputs": [
    {
     "data": {
      "application/vnd.jupyter.widget-view+json": {
       "model_id": "37392d32e3464856832ba03ce740aa4a",
       "version_major": 2,
       "version_minor": 0
      },
      "text/plain": [
       "interactive(children=(Dropdown(description='Property', options=('ODO % sat', 'ODO mg/L', 'Temp °C', 'SpCond µS…"
      ]
     },
     "metadata": {},
     "output_type": "display_data"
    },
    {
     "data": {
      "text/plain": [
       "<function __main__.scatter_plot_cross_timeseries(Property, CProperty, ColorMap='jet')>"
      ]
     },
     "execution_count": 86,
     "metadata": {},
     "output_type": "execute_result"
    }
   ],
   "source": [
    "def scatter_plot_cross_timeseries(Property,CProperty,ColorMap='jet'):\n",
    "    fig, ax = plt.subplots()\n",
    "    merge_chesa_charl.plot.scatter(ax=ax,x=Property+'_chesa',y=Property+'_charl',c=CProperty+'_chesa',cmap=ColorMap,s=1)\n",
    "    ax.set_title(\"Correlation of \"+Property+\" at Chesapeake & Charleston\",fontsize=14)\n",
    "    \n",
    "interact(scatter_plot_cross_timeseries, \\\n",
    "         Property=locks_all_dataonly.columns, \\\n",
    "         CProperty=locks_all_dataonly.columns, \\\n",
    "         ColorMap=['jet','viridis','magma','coolwarm','seismic','Greys','Reds','Blues'] \\\n",
    "        )"
   ]
  },
  {
   "cell_type": "markdown",
   "metadata": {},
   "source": [
    "### Cross correlation between Charleston and Pocatalico"
   ]
  },
  {
   "cell_type": "code",
   "execution_count": 87,
   "metadata": {},
   "outputs": [
    {
     "data": {
      "application/vnd.jupyter.widget-view+json": {
       "model_id": "5c482ff5a30c476f9a0188f47abbc166",
       "version_major": 2,
       "version_minor": 0
      },
      "text/plain": [
       "interactive(children=(Dropdown(description='Property', options=('ODO % sat', 'ODO mg/L', 'Temp °C', 'SpCond µS…"
      ]
     },
     "metadata": {},
     "output_type": "display_data"
    },
    {
     "data": {
      "text/plain": [
       "<function __main__.scatter_plot_cross_timeseries(Property, CProperty, ColorMap='jet')>"
      ]
     },
     "execution_count": 87,
     "metadata": {},
     "output_type": "execute_result"
    }
   ],
   "source": [
    "def scatter_plot_cross_timeseries(Property,CProperty,ColorMap='jet'):\n",
    "    fig, ax = plt.subplots()\n",
    "    merge_chesa_pocat.plot.scatter(ax=ax,x=Property+'_chesa',y=Property+'_pocat',c=CProperty+'_chesa',cmap=ColorMap,s=1)\n",
    "    ax.set_title(\"Correlation of \"+Property+\" at Chesapeake & Pocatalico\",fontsize=14)\n",
    "    \n",
    "interact(scatter_plot_cross_timeseries, \\\n",
    "         Property=locks_all_dataonly.columns, \\\n",
    "         CProperty=locks_all_dataonly.columns, \\\n",
    "         ColorMap=['jet','viridis','magma','coolwarm','seismic','Greys','Reds','Blues'] \\\n",
    "        )"
   ]
  },
  {
   "cell_type": "markdown",
   "metadata": {},
   "source": [
    "### Cross correlation between Charleston and Pocatalico"
   ]
  },
  {
   "cell_type": "code",
   "execution_count": 88,
   "metadata": {},
   "outputs": [
    {
     "data": {
      "application/vnd.jupyter.widget-view+json": {
       "model_id": "84c90b209d374df1ab4c792ee07c464c",
       "version_major": 2,
       "version_minor": 0
      },
      "text/plain": [
       "interactive(children=(Dropdown(description='Property', options=('ODO % sat', 'ODO mg/L', 'Temp °C', 'SpCond µS…"
      ]
     },
     "metadata": {},
     "output_type": "display_data"
    },
    {
     "data": {
      "text/plain": [
       "<function __main__.scatter_plot_cross_timeseries(Property, CProperty, ColorMap='jet')>"
      ]
     },
     "execution_count": 88,
     "metadata": {},
     "output_type": "execute_result"
    }
   ],
   "source": [
    "def scatter_plot_cross_timeseries(Property,CProperty,ColorMap='jet'):\n",
    "    fig, ax = plt.subplots()\n",
    "    merge_charl_pocat.plot.scatter(ax=ax,x=Property+'_charl',y=Property+'_pocat',c=CProperty+'_charl',cmap=ColorMap,s=1)\n",
    "    ax.set_title(\"Correlation of \"+Property+\" at Charleston & Pocatalico\",fontsize=14)\n",
    "    \n",
    "interact(scatter_plot_cross_timeseries, \\\n",
    "         Property=locks_all_dataonly.columns, \\\n",
    "         CProperty=locks_all_dataonly.columns, \\\n",
    "         ColorMap=['jet','viridis','magma','coolwarm','seismic','Greys','Reds','Blues'] \\\n",
    "        )"
   ]
  },
  {
   "cell_type": "markdown",
   "metadata": {},
   "source": [
    "## Merge WQ Sonde  and USGS Gage data  \n",
    " * TODO: \n",
    "   * Only merge Discharge data \n",
    "   * Estimate Locks discharge from Charleston gage data\n",
    "   * Move this up after reading Locks data"
   ]
  },
  {
   "cell_type": "code",
   "execution_count": 89,
   "metadata": {
    "extensions": {
     "jupyter_dashboards": {
      "version": 1,
      "views": {
       "grid_default": {
        "hidden": true
       },
       "report_default": {
        "hidden": true
       }
      }
     }
    }
   },
   "outputs": [],
   "source": [
    "merge_locks_usgs = pd.merge(merge_chesa_charl, usgs_gage_means, how='outer', left_index=True, right_index=True)\n",
    "merge_locks_usgs.to_csv(\"Kanawha/sonde_usgs_resampled_means.csv\")\n",
    "#usgs_gage_means.to_csv(\"data/Greenup/usgs_means.csv\")"
   ]
  },
  {
   "cell_type": "markdown",
   "metadata": {
    "extensions": {
     "jupyter_dashboards": {
      "version": 1,
      "views": {
       "grid_default": {},
       "report_default": {
        "hidden": false
       }
      }
     }
    }
   },
   "source": [
    "## == Water Quality Data source available in: https://doi.org/10.6084/m9.figshare.9786212\n",
    "### Correlation between sonde and gage data"
   ]
  },
  {
   "cell_type": "code",
   "execution_count": 90,
   "metadata": {
    "extensions": {
     "jupyter_dashboards": {
      "version": 1,
      "views": {
       "grid_default": {
        "hidden": true
       },
       "report_default": {
        "hidden": true
       }
      }
     }
    },
    "scrolled": true
   },
   "outputs": [
    {
     "data": {
      "application/vnd.jupyter.widget-view+json": {
       "model_id": "bd9abba8a0f54bfa9c9dc69a2d4b3fcb",
       "version_major": 2,
       "version_minor": 0
      },
      "text/plain": [
       "interactive(children=(Dropdown(description='YProperty', options=('ODO % sat_chesa', 'ODO mg/L_chesa', 'Temp °C…"
      ]
     },
     "metadata": {},
     "output_type": "display_data"
    },
    {
     "data": {
      "text/plain": [
       "<function __main__.scatter_plot_cross_all_timeseries(YProperty, XProperty, CProperty, ColorMap='jet')>"
      ]
     },
     "execution_count": 90,
     "metadata": {},
     "output_type": "execute_result"
    }
   ],
   "source": [
    "def scatter_plot_cross_all_timeseries(YProperty,XProperty,CProperty,ColorMap='jet'):\n",
    "    fig, ax = plt.subplots()\n",
    "    merge_locks_usgs.plot.scatter(ax=ax,x=XProperty,y=YProperty,c=CProperty,cmap=ColorMap,s=1)\n",
    "    ax.set_title(\"Chesapeake & Charleston vs Charleston Gage\",fontsize=14)\n",
    "\n",
    "merge_locks_usgs = merge_locks_usgs.drop(merge_locks_usgs.columns[[8,16]],axis=1) #\\\n",
    "#     .drop(merge_locks_usgs.columns[[7,8,9]],axis=1) \\\n",
    "#     .drop(merge_locks_usgs.columns[[11,13,14]],axis=1) \\\n",
    "#     .drop(merge_locks_usgs.columns[[15,17,19]],axis=1) \\\n",
    "#     .drop(merge_locks_usgs.columns[[20,22,23]],axis=1) \\\n",
    "#     .drop(merge_locks_usgs.columns[[24,25,26]],axis=1) \\\n",
    "#     .drop(merge_locks_usgs.columns[[29,30,31]],axis=1) \\\n",
    "#     .drop(merge_locks_usgs.columns[[32,34]],axis=1) \\\n",
    "#     .drop(merge_locks_usgs.columns[[36,37,38]],axis=1) \\\n",
    "#     .drop(merge_locks_usgs.columns[[40,42,43]],axis=1) \\\n",
    "#     .drop(merge_locks_usgs.columns[[45,6]],axis=1) \\\n",
    "\n",
    "\n",
    "interact(scatter_plot_cross_all_timeseries, \\\n",
    "         YProperty=merge_locks_usgs.columns, \\\n",
    "         XProperty=merge_locks_usgs.columns, \\\n",
    "         CProperty=merge_locks_usgs.columns, \\\n",
    "         ColorMap=['jet','viridis','magma','coolwarm','seismic','Greys','Reds','Blues'] \\\n",
    "        )"
   ]
  },
  {
   "cell_type": "markdown",
   "metadata": {},
   "source": [
    "## == Water Quality Analysis and correlation with water added along the Kanawha River  WV for drainage sections 2 & 3"
   ]
  },
  {
   "cell_type": "code",
   "execution_count": 91,
   "metadata": {},
   "outputs": [
    {
     "name": "stdout",
     "output_type": "stream",
     "text": [
      "1663 subjects and 7 columns\n"
     ]
    },
    {
     "data": {
      "text/html": [
       "<div>\n",
       "<style scoped>\n",
       "    .dataframe tbody tr th:only-of-type {\n",
       "        vertical-align: middle;\n",
       "    }\n",
       "\n",
       "    .dataframe tbody tr th {\n",
       "        vertical-align: top;\n",
       "    }\n",
       "\n",
       "    .dataframe thead th {\n",
       "        text-align: right;\n",
       "    }\n",
       "</style>\n",
       "<table border=\"1\" class=\"dataframe\">\n",
       "  <thead>\n",
       "    <tr style=\"text-align: right;\">\n",
       "      <th></th>\n",
       "      <th>ODO mg/L</th>\n",
       "      <th>Temp C</th>\n",
       "      <th>SpCond µS/cm</th>\n",
       "      <th>Turbidity NTU</th>\n",
       "      <th>pH</th>\n",
       "      <th>ORP mV</th>\n",
       "      <th>Water Added</th>\n",
       "    </tr>\n",
       "  </thead>\n",
       "  <tbody>\n",
       "    <tr>\n",
       "      <th>0</th>\n",
       "      <td>-12.72</td>\n",
       "      <td>0.85</td>\n",
       "      <td>4.0</td>\n",
       "      <td>-0.70</td>\n",
       "      <td>0.37</td>\n",
       "      <td>-129.8</td>\n",
       "      <td>116.348068</td>\n",
       "    </tr>\n",
       "    <tr>\n",
       "      <th>1</th>\n",
       "      <td>-12.71</td>\n",
       "      <td>0.86</td>\n",
       "      <td>4.0</td>\n",
       "      <td>-0.56</td>\n",
       "      <td>0.36</td>\n",
       "      <td>-129.9</td>\n",
       "      <td>147.434251</td>\n",
       "    </tr>\n",
       "    <tr>\n",
       "      <th>2</th>\n",
       "      <td>-12.71</td>\n",
       "      <td>0.81</td>\n",
       "      <td>3.7</td>\n",
       "      <td>0.22</td>\n",
       "      <td>0.34</td>\n",
       "      <td>-132.0</td>\n",
       "      <td>181.292649</td>\n",
       "    </tr>\n",
       "    <tr>\n",
       "      <th>3</th>\n",
       "      <td>-12.71</td>\n",
       "      <td>0.80</td>\n",
       "      <td>5.0</td>\n",
       "      <td>0.81</td>\n",
       "      <td>0.31</td>\n",
       "      <td>-132.1</td>\n",
       "      <td>215.938253</td>\n",
       "    </tr>\n",
       "    <tr>\n",
       "      <th>4</th>\n",
       "      <td>-12.79</td>\n",
       "      <td>0.59</td>\n",
       "      <td>5.6</td>\n",
       "      <td>6.40</td>\n",
       "      <td>0.30</td>\n",
       "      <td>-131.7</td>\n",
       "      <td>246.800734</td>\n",
       "    </tr>\n",
       "  </tbody>\n",
       "</table>\n",
       "</div>"
      ],
      "text/plain": [
       "   ODO mg/L  Temp C  SpCond µS/cm  Turbidity NTU    pH  ORP mV  Water Added\n",
       "0    -12.72    0.85           4.0          -0.70  0.37  -129.8   116.348068\n",
       "1    -12.71    0.86           4.0          -0.56  0.36  -129.9   147.434251\n",
       "2    -12.71    0.81           3.7           0.22  0.34  -132.0   181.292649\n",
       "3    -12.71    0.80           5.0           0.81  0.31  -132.1   215.938253\n",
       "4    -12.79    0.59           5.6           6.40  0.30  -131.7   246.800734"
      ]
     },
     "execution_count": 91,
     "metadata": {},
     "output_type": "execute_result"
    }
   ],
   "source": [
    "\n",
    "df2 = pd.read_csv('Kanawha/WQS2.csv', encoding='latin1') ###Water quality changes for Drainage section 2 and water added according to a HSPF model\n",
    "df3 = pd.read_csv('Kanawha/WQS3.csv',encoding='latin1') ###Water quality changes for Drainage section 3 and water added according to a HSPF model\n",
    "print('%i subjects and %i columns' % df2.shape)\n",
    "df2.head()"
   ]
  },
  {
   "cell_type": "code",
   "execution_count": 92,
   "metadata": {},
   "outputs": [
    {
     "data": {
      "text/html": [
       "<div>\n",
       "<style scoped>\n",
       "    .dataframe tbody tr th:only-of-type {\n",
       "        vertical-align: middle;\n",
       "    }\n",
       "\n",
       "    .dataframe tbody tr th {\n",
       "        vertical-align: top;\n",
       "    }\n",
       "\n",
       "    .dataframe thead th {\n",
       "        text-align: right;\n",
       "    }\n",
       "</style>\n",
       "<table border=\"1\" class=\"dataframe\">\n",
       "  <thead>\n",
       "    <tr style=\"text-align: right;\">\n",
       "      <th></th>\n",
       "      <th>n</th>\n",
       "      <th>r</th>\n",
       "      <th>CI95%</th>\n",
       "      <th>r2</th>\n",
       "      <th>adj_r2</th>\n",
       "      <th>p-val</th>\n",
       "      <th>BF10</th>\n",
       "      <th>power</th>\n",
       "    </tr>\n",
       "  </thead>\n",
       "  <tbody>\n",
       "    <tr>\n",
       "      <th>pearson</th>\n",
       "      <td>1663</td>\n",
       "      <td>0.853</td>\n",
       "      <td>[0.84, 0.87]</td>\n",
       "      <td>0.727</td>\n",
       "      <td>0.727</td>\n",
       "      <td>0.0</td>\n",
       "      <td>inf</td>\n",
       "      <td>1.0</td>\n",
       "    </tr>\n",
       "  </tbody>\n",
       "</table>\n",
       "</div>"
      ],
      "text/plain": [
       "            n      r         CI95%     r2  adj_r2  p-val BF10  power\n",
       "pearson  1663  0.853  [0.84, 0.87]  0.727   0.727    0.0  inf    1.0"
      ]
     },
     "execution_count": 92,
     "metadata": {},
     "output_type": "execute_result"
    }
   ],
   "source": [
    "pg.corr(x=df2['ODO mg/L'], y=df2['ORP mV'])\n"
   ]
  },
  {
   "cell_type": "code",
   "execution_count": 93,
   "metadata": {},
   "outputs": [
    {
     "data": {
      "image/png": "[encoded data removed]",
      "text/plain": [
       "<Figure size 360x360 with 3 Axes>"
      ]
     },
     "metadata": {},
     "output_type": "display_data"
    }
   ],
   "source": [
    "sns.set(style='white', font_scale=1.2)\n",
    "g = sns.JointGrid(data=df2, x='ODO mg/L', y='ORP mV', xlim=(-13, -1), ylim=(-160, 30), height=5)\n",
    "g = g.plot_joint(sns.regplot, color=\"xkcd:muted blue\")\n",
    "g = g.plot_marginals(sns.distplot, kde=False, bins=12, color=\"xkcd:bluey grey\")\n",
    "plt.tight_layout()"
   ]
  },
  {
   "cell_type": "code",
   "execution_count": 94,
   "metadata": {},
   "outputs": [
    {
     "data": {
      "text/html": [
       "<div>\n",
       "<style scoped>\n",
       "    .dataframe tbody tr th:only-of-type {\n",
       "        vertical-align: middle;\n",
       "    }\n",
       "\n",
       "    .dataframe tbody tr th {\n",
       "        vertical-align: top;\n",
       "    }\n",
       "\n",
       "    .dataframe thead th {\n",
       "        text-align: right;\n",
       "    }\n",
       "</style>\n",
       "<table border=\"1\" class=\"dataframe\">\n",
       "  <thead>\n",
       "    <tr style=\"text-align: right;\">\n",
       "      <th></th>\n",
       "      <th>X</th>\n",
       "      <th>Y</th>\n",
       "      <th>n</th>\n",
       "      <th>r</th>\n",
       "      <th>p-unc</th>\n",
       "    </tr>\n",
       "  </thead>\n",
       "  <tbody>\n",
       "    <tr>\n",
       "      <th>4</th>\n",
       "      <td>ODO mg/L</td>\n",
       "      <td>ORP mV</td>\n",
       "      <td>1663</td>\n",
       "      <td>0.730</td>\n",
       "      <td>2.107584e-276</td>\n",
       "    </tr>\n",
       "    <tr>\n",
       "      <th>18</th>\n",
       "      <td>pH</td>\n",
       "      <td>ORP mV</td>\n",
       "      <td>1663</td>\n",
       "      <td>-0.456</td>\n",
       "      <td>2.588542e-86</td>\n",
       "    </tr>\n",
       "    <tr>\n",
       "      <th>20</th>\n",
       "      <td>ORP mV</td>\n",
       "      <td>Water Added</td>\n",
       "      <td>1663</td>\n",
       "      <td>0.438</td>\n",
       "      <td>4.260861e-79</td>\n",
       "    </tr>\n",
       "    <tr>\n",
       "      <th>5</th>\n",
       "      <td>ODO mg/L</td>\n",
       "      <td>Water Added</td>\n",
       "      <td>1663</td>\n",
       "      <td>0.435</td>\n",
       "      <td>1.084986e-77</td>\n",
       "    </tr>\n",
       "    <tr>\n",
       "      <th>17</th>\n",
       "      <td>Turbidity NTU</td>\n",
       "      <td>Water Added</td>\n",
       "      <td>1663</td>\n",
       "      <td>-0.431</td>\n",
       "      <td>2.221352e-76</td>\n",
       "    </tr>\n",
       "  </tbody>\n",
       "</table>\n",
       "</div>"
      ],
      "text/plain": [
       "                X            Y     n      r          p-unc\n",
       "4        ODO mg/L       ORP mV  1663  0.730  2.107584e-276\n",
       "18             pH       ORP mV  1663 -0.456   2.588542e-86\n",
       "20         ORP mV  Water Added  1663  0.438   4.260861e-79\n",
       "5        ODO mg/L  Water Added  1663  0.435   1.084986e-77\n",
       "17  Turbidity NTU  Water Added  1663 -0.431   2.221352e-76"
      ]
     },
     "execution_count": 94,
     "metadata": {},
     "output_type": "execute_result"
    }
   ],
   "source": [
    "# Calculate the pairwise Spearman correlation\n",
    "corr2 = pg.pairwise_corr(df2, columns=['ODO mg/L', 'Temp C', 'SpCond µS/cm', 'Turbidity NTU', 'pH', 'ORP mV', 'Water Added'], method='spearman')\n",
    "# Sort the correlation by p-values and display the first rows\n",
    "corr2.sort_values(by=['p-unc'])[['X', 'Y', 'n', 'r', 'p-unc']].head()"
   ]
  },
  {
   "cell_type": "code",
   "execution_count": 95,
   "metadata": {},
   "outputs": [
    {
     "data": {
      "text/html": [
       "<div>\n",
       "<style scoped>\n",
       "    .dataframe tbody tr th:only-of-type {\n",
       "        vertical-align: middle;\n",
       "    }\n",
       "\n",
       "    .dataframe tbody tr th {\n",
       "        vertical-align: top;\n",
       "    }\n",
       "\n",
       "    .dataframe thead th {\n",
       "        text-align: right;\n",
       "    }\n",
       "</style>\n",
       "<table border=\"1\" class=\"dataframe\">\n",
       "  <thead>\n",
       "    <tr style=\"text-align: right;\">\n",
       "      <th></th>\n",
       "      <th>ODO mg/L</th>\n",
       "      <th>Temp C</th>\n",
       "      <th>SpCond µS/cm</th>\n",
       "      <th>Turbidity NTU</th>\n",
       "      <th>pH</th>\n",
       "      <th>ORP mV</th>\n",
       "      <th>Water Added</th>\n",
       "    </tr>\n",
       "  </thead>\n",
       "  <tbody>\n",
       "    <tr>\n",
       "      <th>ODO mg/L</th>\n",
       "      <td>1.00</td>\n",
       "      <td>-0.10</td>\n",
       "      <td>-0.85</td>\n",
       "      <td>-0.05</td>\n",
       "      <td>0.05</td>\n",
       "      <td>0.85</td>\n",
       "      <td>0.20</td>\n",
       "    </tr>\n",
       "    <tr>\n",
       "      <th>Temp C</th>\n",
       "      <td>-0.10</td>\n",
       "      <td>1.00</td>\n",
       "      <td>0.12</td>\n",
       "      <td>0.07</td>\n",
       "      <td>0.19</td>\n",
       "      <td>-0.08</td>\n",
       "      <td>-0.24</td>\n",
       "    </tr>\n",
       "    <tr>\n",
       "      <th>SpCond µS/cm</th>\n",
       "      <td>-0.85</td>\n",
       "      <td>0.12</td>\n",
       "      <td>1.00</td>\n",
       "      <td>-0.01</td>\n",
       "      <td>-0.25</td>\n",
       "      <td>-0.70</td>\n",
       "      <td>-0.05</td>\n",
       "    </tr>\n",
       "    <tr>\n",
       "      <th>Turbidity NTU</th>\n",
       "      <td>-0.05</td>\n",
       "      <td>0.07</td>\n",
       "      <td>-0.01</td>\n",
       "      <td>1.00</td>\n",
       "      <td>0.07</td>\n",
       "      <td>-0.15</td>\n",
       "      <td>-0.29</td>\n",
       "    </tr>\n",
       "    <tr>\n",
       "      <th>pH</th>\n",
       "      <td>0.05</td>\n",
       "      <td>0.19</td>\n",
       "      <td>-0.25</td>\n",
       "      <td>0.07</td>\n",
       "      <td>1.00</td>\n",
       "      <td>-0.13</td>\n",
       "      <td>-0.20</td>\n",
       "    </tr>\n",
       "    <tr>\n",
       "      <th>ORP mV</th>\n",
       "      <td>0.85</td>\n",
       "      <td>-0.08</td>\n",
       "      <td>-0.70</td>\n",
       "      <td>-0.15</td>\n",
       "      <td>-0.13</td>\n",
       "      <td>1.00</td>\n",
       "      <td>0.29</td>\n",
       "    </tr>\n",
       "    <tr>\n",
       "      <th>Water Added</th>\n",
       "      <td>0.20</td>\n",
       "      <td>-0.24</td>\n",
       "      <td>-0.05</td>\n",
       "      <td>-0.29</td>\n",
       "      <td>-0.20</td>\n",
       "      <td>0.29</td>\n",
       "      <td>1.00</td>\n",
       "    </tr>\n",
       "  </tbody>\n",
       "</table>\n",
       "</div>"
      ],
      "text/plain": [
       "               ODO mg/L  Temp C  SpCond µS/cm  Turbidity NTU    pH  ORP mV  \\\n",
       "ODO mg/L           1.00   -0.10         -0.85          -0.05  0.05    0.85   \n",
       "Temp C            -0.10    1.00          0.12           0.07  0.19   -0.08   \n",
       "SpCond µS/cm      -0.85    0.12          1.00          -0.01 -0.25   -0.70   \n",
       "Turbidity NTU     -0.05    0.07         -0.01           1.00  0.07   -0.15   \n",
       "pH                 0.05    0.19         -0.25           0.07  1.00   -0.13   \n",
       "ORP mV             0.85   -0.08         -0.70          -0.15 -0.13    1.00   \n",
       "Water Added        0.20   -0.24         -0.05          -0.29 -0.20    0.29   \n",
       "\n",
       "               Water Added  \n",
       "ODO mg/L              0.20  \n",
       "Temp C               -0.24  \n",
       "SpCond µS/cm         -0.05  \n",
       "Turbidity NTU        -0.29  \n",
       "pH                   -0.20  \n",
       "ORP mV                0.29  \n",
       "Water Added           1.00  "
      ]
     },
     "execution_count": 95,
     "metadata": {},
     "output_type": "execute_result"
    }
   ],
   "source": [
    "df2.corr().round(2)"
   ]
  },
  {
   "cell_type": "code",
   "execution_count": 96,
   "metadata": {},
   "outputs": [
    {
     "data": {
      "text/plain": [
       "Text(0.5, 1, 'Correlation matrix Drainage Section 2')"
      ]
     },
     "execution_count": 96,
     "metadata": {},
     "output_type": "execute_result"
    },
    {
     "data": {
      "image/png": "[encoded data removed]",
      "text/plain": [
       "<Figure size 432x288 with 2 Axes>"
      ]
     },
     "metadata": {},
     "output_type": "display_data"
    }
   ],
   "source": [
    "corrs2 = df2.corr()\n",
    "mask = np.zeros_like(corrs2)\n",
    "mask[np.triu_indices_from(mask)] = True\n",
    "sns.heatmap(corrs2, cmap='Spectral_r', mask=mask, square=True, vmin=-1, vmax=1)\n",
    "plt.title('Correlation matrix Drainage Section 2')"
   ]
  },
  {
   "cell_type": "code",
   "execution_count": 97,
   "metadata": {},
   "outputs": [
    {
     "data": {
      "text/html": [
       "<div>\n",
       "<style scoped>\n",
       "    .dataframe tbody tr th:only-of-type {\n",
       "        vertical-align: middle;\n",
       "    }\n",
       "\n",
       "    .dataframe tbody tr th {\n",
       "        vertical-align: top;\n",
       "    }\n",
       "\n",
       "    .dataframe thead th {\n",
       "        text-align: right;\n",
       "    }\n",
       "</style>\n",
       "<table border=\"1\" class=\"dataframe\">\n",
       "  <thead>\n",
       "    <tr style=\"text-align: right;\">\n",
       "      <th></th>\n",
       "      <th>X</th>\n",
       "      <th>Y</th>\n",
       "      <th>n</th>\n",
       "      <th>r</th>\n",
       "      <th>p-unc</th>\n",
       "    </tr>\n",
       "  </thead>\n",
       "  <tbody>\n",
       "    <tr>\n",
       "      <th>1</th>\n",
       "      <td>ODO mg/L</td>\n",
       "      <td>SpCond µS/cm</td>\n",
       "      <td>1649</td>\n",
       "      <td>-0.949</td>\n",
       "      <td>0.000000e+00</td>\n",
       "    </tr>\n",
       "    <tr>\n",
       "      <th>20</th>\n",
       "      <td>ORP mV</td>\n",
       "      <td>Water Added</td>\n",
       "      <td>1649</td>\n",
       "      <td>-0.562</td>\n",
       "      <td>3.201050e-138</td>\n",
       "    </tr>\n",
       "    <tr>\n",
       "      <th>17</th>\n",
       "      <td>Turbidity NTU</td>\n",
       "      <td>Water Added</td>\n",
       "      <td>1649</td>\n",
       "      <td>0.478</td>\n",
       "      <td>1.011822e-94</td>\n",
       "    </tr>\n",
       "    <tr>\n",
       "      <th>13</th>\n",
       "      <td>SpCond µS/cm</td>\n",
       "      <td>ORP mV</td>\n",
       "      <td>1649</td>\n",
       "      <td>0.474</td>\n",
       "      <td>3.082970e-93</td>\n",
       "    </tr>\n",
       "    <tr>\n",
       "      <th>4</th>\n",
       "      <td>ODO mg/L</td>\n",
       "      <td>ORP mV</td>\n",
       "      <td>1649</td>\n",
       "      <td>-0.462</td>\n",
       "      <td>6.040968e-88</td>\n",
       "    </tr>\n",
       "  </tbody>\n",
       "</table>\n",
       "</div>"
      ],
      "text/plain": [
       "                X             Y     n      r          p-unc\n",
       "1        ODO mg/L  SpCond µS/cm  1649 -0.949   0.000000e+00\n",
       "20         ORP mV   Water Added  1649 -0.562  3.201050e-138\n",
       "17  Turbidity NTU   Water Added  1649  0.478   1.011822e-94\n",
       "13   SpCond µS/cm        ORP mV  1649  0.474   3.082970e-93\n",
       "4        ODO mg/L        ORP mV  1649 -0.462   6.040968e-88"
      ]
     },
     "execution_count": 97,
     "metadata": {},
     "output_type": "execute_result"
    }
   ],
   "source": [
    "# Calculate the pairwise Spearman correlation\n",
    "corr3 = pg.pairwise_corr(df3, columns=['ODO mg/L', 'Temp C', 'SpCond µS/cm', 'Turbidity NTU', 'pH', 'ORP mV', 'Water Added'], method='spearman')\n",
    "# Sort the correlation by p-values and display the first rows\n",
    "corr3.sort_values(by=['p-unc'])[['X', 'Y', 'n', 'r', 'p-unc']].head()"
   ]
  },
  {
   "cell_type": "code",
   "execution_count": 98,
   "metadata": {},
   "outputs": [
    {
     "data": {
      "text/html": [
       "<div>\n",
       "<style scoped>\n",
       "    .dataframe tbody tr th:only-of-type {\n",
       "        vertical-align: middle;\n",
       "    }\n",
       "\n",
       "    .dataframe tbody tr th {\n",
       "        vertical-align: top;\n",
       "    }\n",
       "\n",
       "    .dataframe thead th {\n",
       "        text-align: right;\n",
       "    }\n",
       "</style>\n",
       "<table border=\"1\" class=\"dataframe\">\n",
       "  <thead>\n",
       "    <tr style=\"text-align: right;\">\n",
       "      <th></th>\n",
       "      <th>n</th>\n",
       "      <th>r</th>\n",
       "      <th>CI95%</th>\n",
       "      <th>r2</th>\n",
       "      <th>adj_r2</th>\n",
       "      <th>p-val</th>\n",
       "      <th>BF10</th>\n",
       "      <th>power</th>\n",
       "    </tr>\n",
       "  </thead>\n",
       "  <tbody>\n",
       "    <tr>\n",
       "      <th>pearson</th>\n",
       "      <td>1649</td>\n",
       "      <td>-0.959</td>\n",
       "      <td>[-0.96, -0.95]</td>\n",
       "      <td>0.919</td>\n",
       "      <td>0.919</td>\n",
       "      <td>0.0</td>\n",
       "      <td>inf</td>\n",
       "      <td>1.0</td>\n",
       "    </tr>\n",
       "  </tbody>\n",
       "</table>\n",
       "</div>"
      ],
      "text/plain": [
       "            n      r           CI95%     r2  adj_r2  p-val BF10  power\n",
       "pearson  1649 -0.959  [-0.96, -0.95]  0.919   0.919    0.0  inf    1.0"
      ]
     },
     "execution_count": 98,
     "metadata": {},
     "output_type": "execute_result"
    }
   ],
   "source": [
    "pg.corr(x=df3['SpCond µS/cm'], y=df3['ODO mg/L'])"
   ]
  },
  {
   "cell_type": "code",
   "execution_count": 99,
   "metadata": {},
   "outputs": [
    {
     "data": {
      "image/png": "[encoded data removed]",
      "text/plain": [
       "<Figure size 360x360 with 3 Axes>"
      ]
     },
     "metadata": {},
     "output_type": "display_data"
    }
   ],
   "source": [
    "sns.set(style='white', font_scale=1.2)\n",
    "g = sns.JointGrid(data=df3, x='SpCond µS/cm', y='ODO mg/L', xlim=(-60, 200), ylim=(-9, 2), height=5)\n",
    "g = g.plot_joint(sns.regplot, color=\"xkcd:muted blue\")\n",
    "g = g.plot_marginals(sns.distplot, kde=False, bins=12, color=\"xkcd:bluey grey\")\n",
    "plt.tight_layout()"
   ]
  },
  {
   "cell_type": "code",
   "execution_count": 100,
   "metadata": {},
   "outputs": [
    {
     "data": {
      "text/html": [
       "<div>\n",
       "<style scoped>\n",
       "    .dataframe tbody tr th:only-of-type {\n",
       "        vertical-align: middle;\n",
       "    }\n",
       "\n",
       "    .dataframe tbody tr th {\n",
       "        vertical-align: top;\n",
       "    }\n",
       "\n",
       "    .dataframe thead th {\n",
       "        text-align: right;\n",
       "    }\n",
       "</style>\n",
       "<table border=\"1\" class=\"dataframe\">\n",
       "  <thead>\n",
       "    <tr style=\"text-align: right;\">\n",
       "      <th></th>\n",
       "      <th>ODO mg/L</th>\n",
       "      <th>Temp C</th>\n",
       "      <th>SpCond µS/cm</th>\n",
       "      <th>Turbidity NTU</th>\n",
       "      <th>pH</th>\n",
       "      <th>ORP mV</th>\n",
       "      <th>Water Added</th>\n",
       "    </tr>\n",
       "  </thead>\n",
       "  <tbody>\n",
       "    <tr>\n",
       "      <th>ODO mg/L</th>\n",
       "      <td>1.00</td>\n",
       "      <td>-0.01</td>\n",
       "      <td>-0.96</td>\n",
       "      <td>0.20</td>\n",
       "      <td>0.05</td>\n",
       "      <td>-0.18</td>\n",
       "      <td>0.19</td>\n",
       "    </tr>\n",
       "    <tr>\n",
       "      <th>Temp C</th>\n",
       "      <td>-0.01</td>\n",
       "      <td>1.00</td>\n",
       "      <td>-0.04</td>\n",
       "      <td>0.11</td>\n",
       "      <td>-0.28</td>\n",
       "      <td>0.00</td>\n",
       "      <td>0.27</td>\n",
       "    </tr>\n",
       "    <tr>\n",
       "      <th>SpCond µS/cm</th>\n",
       "      <td>-0.96</td>\n",
       "      <td>-0.04</td>\n",
       "      <td>1.00</td>\n",
       "      <td>-0.27</td>\n",
       "      <td>0.05</td>\n",
       "      <td>0.29</td>\n",
       "      <td>-0.28</td>\n",
       "    </tr>\n",
       "    <tr>\n",
       "      <th>Turbidity NTU</th>\n",
       "      <td>0.20</td>\n",
       "      <td>0.11</td>\n",
       "      <td>-0.27</td>\n",
       "      <td>1.00</td>\n",
       "      <td>0.02</td>\n",
       "      <td>-0.37</td>\n",
       "      <td>0.46</td>\n",
       "    </tr>\n",
       "    <tr>\n",
       "      <th>pH</th>\n",
       "      <td>0.05</td>\n",
       "      <td>-0.28</td>\n",
       "      <td>0.05</td>\n",
       "      <td>0.02</td>\n",
       "      <td>1.00</td>\n",
       "      <td>-0.24</td>\n",
       "      <td>0.12</td>\n",
       "    </tr>\n",
       "    <tr>\n",
       "      <th>ORP mV</th>\n",
       "      <td>-0.18</td>\n",
       "      <td>0.00</td>\n",
       "      <td>0.29</td>\n",
       "      <td>-0.37</td>\n",
       "      <td>-0.24</td>\n",
       "      <td>1.00</td>\n",
       "      <td>-0.63</td>\n",
       "    </tr>\n",
       "    <tr>\n",
       "      <th>Water Added</th>\n",
       "      <td>0.19</td>\n",
       "      <td>0.27</td>\n",
       "      <td>-0.28</td>\n",
       "      <td>0.46</td>\n",
       "      <td>0.12</td>\n",
       "      <td>-0.63</td>\n",
       "      <td>1.00</td>\n",
       "    </tr>\n",
       "  </tbody>\n",
       "</table>\n",
       "</div>"
      ],
      "text/plain": [
       "               ODO mg/L  Temp C  SpCond µS/cm  Turbidity NTU    pH  ORP mV  \\\n",
       "ODO mg/L           1.00   -0.01         -0.96           0.20  0.05   -0.18   \n",
       "Temp C            -0.01    1.00         -0.04           0.11 -0.28    0.00   \n",
       "SpCond µS/cm      -0.96   -0.04          1.00          -0.27  0.05    0.29   \n",
       "Turbidity NTU      0.20    0.11         -0.27           1.00  0.02   -0.37   \n",
       "pH                 0.05   -0.28          0.05           0.02  1.00   -0.24   \n",
       "ORP mV            -0.18    0.00          0.29          -0.37 -0.24    1.00   \n",
       "Water Added        0.19    0.27         -0.28           0.46  0.12   -0.63   \n",
       "\n",
       "               Water Added  \n",
       "ODO mg/L              0.19  \n",
       "Temp C                0.27  \n",
       "SpCond µS/cm         -0.28  \n",
       "Turbidity NTU         0.46  \n",
       "pH                    0.12  \n",
       "ORP mV               -0.63  \n",
       "Water Added           1.00  "
      ]
     },
     "execution_count": 100,
     "metadata": {},
     "output_type": "execute_result"
    }
   ],
   "source": [
    "df3.corr().round(2)"
   ]
  },
  {
   "cell_type": "code",
   "execution_count": 101,
   "metadata": {},
   "outputs": [
    {
     "data": {
      "text/plain": [
       "Text(0.5, 1, 'Correlation matrix Drainage Section 3')"
      ]
     },
     "execution_count": 101,
     "metadata": {},
     "output_type": "execute_result"
    },
    {
     "data": {
      "image/png": "[encoded data removed]",
      "text/plain": [
       "<Figure size 432x288 with 2 Axes>"
      ]
     },
     "metadata": {},
     "output_type": "display_data"
    }
   ],
   "source": [
    "corrs3 = df3.corr()\n",
    "mask = np.zeros_like(corrs3)\n",
    "mask[np.triu_indices_from(mask)] = True\n",
    "sns.heatmap(corrs3, cmap='Spectral_r', mask=mask, square=True, vmin=-1, vmax=1)\n",
    "plt.title('Correlation matrix Drainage Section 3')"
   ]
  },
  {
   "cell_type": "markdown",
   "metadata": {},
   "source": [
    "## Opening of the source data at https://doi.org/10.6084/m9.figshare.9786212\n"
   ]
  },
  {
   "cell_type": "code",
   "execution_count": 102,
   "metadata": {},
   "outputs": [
    {
     "data": {
      "text/plain": [
       "True"
      ]
     },
     "execution_count": 102,
     "metadata": {},
     "output_type": "execute_result"
    }
   ],
   "source": [
    "webbrowser.open('https://doi.org/10.6084/m9.figshare.9786212', new=1)"
   ]
  }
 ],
 "metadata": {
  "extensions": {
   "jupyter_dashboards": {
    "activeView": "report_default",
    "version": 1,
    "views": {
     "grid_default": {
      "cellMargin": 10,
      "defaultCellHeight": 20,
      "maxColumns": 12,
      "name": "grid",
      "type": "grid"
     },
     "report_default": {
      "name": "report",
      "type": "report"
     }
    }
   }
  },
  "kernelspec": {
   "display_name": "Python 3",
   "language": "python",
   "name": "python3"
  },
  "language_info": {
   "codemirror_mode": {
    "name": "ipython",
    "version": 3
   },
   "file_extension": ".py",
   "mimetype": "text/x-python",
   "name": "python",
   "nbconvert_exporter": "python",
   "pygments_lexer": "ipython3",
   "version": "3.7.3"
  }
 },
 "nbformat": 4,
 "nbformat_minor": 2
}
